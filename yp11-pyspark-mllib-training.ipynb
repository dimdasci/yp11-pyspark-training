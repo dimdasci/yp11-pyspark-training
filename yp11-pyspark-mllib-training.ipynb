{
 "cells": [
  {
   "cell_type": "markdown",
   "id": "c531a5f4",
   "metadata": {},
   "source": [
    "#  Предсказание стоимости дома"
   ]
  },
  {
   "cell_type": "markdown",
   "id": "71cc5677",
   "metadata": {},
   "source": [
    "В проекте нам нужно обучить модель линейной регрессии на данных о [жилье в Калифорнии в 1990 году](https://www.kaggle.com/datasets/camnugent/california-housing-prices) (CC0: Public Domain). \n",
    "\n",
    "В колонках датасета содержатся следующие данные:\n",
    "- `longitude` — широта;\n",
    "- `latitude` — долгота;\n",
    "- `housing_median_age` — медианный возраст жителей жилого массива;\n",
    "- `total_rooms` — общее количество комнат в домах жилого массива;\n",
    "- `total_bedrooms` — общее количество спален в домах жилого массива;\n",
    "- `population` — количество человек, которые проживают в жилом массиве;\n",
    "- `households` — количество домовладений в жилом массиве;\n",
    "- `median_income` — медианный доход жителей жилого массива;\n",
    "- `median_house_value` — медианная стоимость дома в жилом массиве;\n",
    "- `ocean_proximity` — близость к океану.\n",
    "\n",
    "На основе данных нужно предсказать медианную стоимость дома в жилом массиве — `median_house_value`. \n",
    "\n",
    "Для оценки качества модели используйте метрики RMSE, MAE и R2."
   ]
  },
  {
   "cell_type": "markdown",
   "id": "d04a1741",
   "metadata": {},
   "source": [
    "## Цель исследования"
   ]
  },
  {
   "cell_type": "markdown",
   "id": "ced28cf5",
   "metadata": {},
   "source": [
    "Целью исследования являетя разработка модели прогнозирования стоимости жилья с применением распределенных вычислений. "
   ]
  },
  {
   "cell_type": "markdown",
   "id": "efed42e3",
   "metadata": {},
   "source": [
    "### Постановка задачи"
   ]
  },
  {
   "cell_type": "markdown",
   "id": "3ce42747",
   "metadata": {},
   "source": [
    "В данной работе нам надо, используя распределенные вычисления:\n",
    "- провести анализ данных;\n",
    "- построить две модели линейной регрессии, предсказывающие стоимость жилья: одну на полном наборе признаков, другую только на числовых признаках;\n",
    "- сравнить результаты работы по метрикам RMSE, MAE и R2."
   ]
  },
  {
   "cell_type": "markdown",
   "id": "7e102f54",
   "metadata": {},
   "source": [
    "### Основные этапы"
   ]
  },
  {
   "cell_type": "markdown",
   "id": "1f6df55f",
   "metadata": {},
   "source": [
    "1. Инициализируем локальную Spark-сессию.\n",
    "2. Прочитаем содержимое файла `/datasets/housing.csv`.\n",
    "3. Выведем типы данных колонок датасета, применив методы pySpark.\n",
    "4. Выполним предобработку данных:\n",
    "    - Исследуем данные на наличие пропусков и заполним их.\n",
    "    - Преобразуем колонку с категориальными значениями техникой One hot encoding.\n",
    "5. Построим две модели линейной регрессии на разных наборах данных:\n",
    "    - используя все данные из файла;\n",
    "    - используя только числовые переменные, исключив категориальные.\n",
    "6. Для построения модели возьмем оценщик LinearRegression из библиотеки MLlib.\n",
    "7. Сравним результаты работы линейной регрессии на двух наборах данных по метрикам RMSE, MAE и R2. \n",
    "8. Сделаем выводы."
   ]
  },
  {
   "cell_type": "markdown",
   "id": "ff83add5",
   "metadata": {},
   "source": [
    "### Выводы"
   ]
  },
  {
   "cell_type": "markdown",
   "id": "8c6f7819",
   "metadata": {},
   "source": []
  },
  {
   "cell_type": "markdown",
   "id": "e2219681",
   "metadata": {},
   "source": [
    "## Загрузка библиотек"
   ]
  },
  {
   "cell_type": "code",
   "execution_count": 1,
   "id": "301e2b88",
   "metadata": {},
   "outputs": [],
   "source": [
    "from os.path import exists"
   ]
  },
  {
   "cell_type": "code",
   "execution_count": 2,
   "id": "b346262d",
   "metadata": {},
   "outputs": [],
   "source": [
    "import pandas as pd \n",
    "import numpy as np"
   ]
  },
  {
   "cell_type": "code",
   "execution_count": 9,
   "id": "fd9092f0",
   "metadata": {},
   "outputs": [],
   "source": [
    "from pyspark.sql import SparkSession\n",
    "from pyspark.sql.types import *\n",
    "import pyspark.sql.functions as F"
   ]
  },
  {
   "cell_type": "markdown",
   "id": "2ff7fc74",
   "metadata": {},
   "source": [
    "## Подготовка данных"
   ]
  },
  {
   "cell_type": "markdown",
   "id": "03c482c0",
   "metadata": {},
   "source": [
    "### Загрузка данных"
   ]
  },
  {
   "cell_type": "markdown",
   "id": "a4c162e5",
   "metadata": {},
   "source": [
    "Определим путь для загрузки данных: в текущей директории или корневой."
   ]
  },
  {
   "cell_type": "code",
   "execution_count": 12,
   "id": "8c3f29c9",
   "metadata": {},
   "outputs": [
    {
     "data": {
      "text/plain": [
       "'./datasets/housing.csv'"
      ]
     },
     "execution_count": 12,
     "metadata": {},
     "output_type": "execute_result"
    }
   ],
   "source": [
    "data_path = './datasets/housing.csv'\n",
    "if not exists(data_path):\n",
    "    data_path = data_path[1:]\n",
    "data_path"
   ]
  },
  {
   "cell_type": "markdown",
   "id": "7f8ba6dd",
   "metadata": {},
   "source": [
    "Инициализируем локальную Spark-сессию."
   ]
  },
  {
   "cell_type": "code",
   "execution_count": 10,
   "id": "fec25224",
   "metadata": {},
   "outputs": [
    {
     "name": "stderr",
     "output_type": "stream",
     "text": [
      "22/08/01 23:03:44 WARN NativeCodeLoader: Unable to load native-hadoop library for your platform... using builtin-java classes where applicable\n",
      "Using Spark's default log4j profile: org/apache/spark/log4j-defaults.properties\n",
      "Setting default log level to \"WARN\".\n",
      "To adjust logging level use sc.setLogLevel(newLevel). For SparkR, use setLogLevel(newLevel).\n"
     ]
    }
   ],
   "source": [
    "spark = SparkSession.builder \\\n",
    "                    .master(\"local\") \\\n",
    "                    .appName(\"California Housing median value prediction\") \\\n",
    "                    .getOrCreate()"
   ]
  },
  {
   "cell_type": "markdown",
   "id": "53900f36",
   "metadata": {},
   "source": [
    "Прочитаем содержимое файла данных."
   ]
  },
  {
   "cell_type": "code",
   "execution_count": 13,
   "id": "5333fac2",
   "metadata": {},
   "outputs": [
    {
     "data": {
      "text/plain": [
       "20640"
      ]
     },
     "execution_count": 13,
     "metadata": {},
     "output_type": "execute_result"
    }
   ],
   "source": [
    "df_housing = spark.read.load(data_path, \n",
    "                             format='csv',\n",
    "                             sep=',',\n",
    "                             inferSchema=True,\n",
    "                             header='true'\n",
    "                            )\n",
    "df_housing.count() "
   ]
  },
  {
   "cell_type": "markdown",
   "id": "fd0c07ae",
   "metadata": {},
   "source": [
    "Выведем типы данных колонок датасета."
   ]
  },
  {
   "cell_type": "code",
   "execution_count": 14,
   "id": "dc8baf74",
   "metadata": {},
   "outputs": [
    {
     "name": "stdout",
     "output_type": "stream",
     "text": [
      "root\n",
      " |-- longitude: double (nullable = true)\n",
      " |-- latitude: double (nullable = true)\n",
      " |-- housing_median_age: double (nullable = true)\n",
      " |-- total_rooms: double (nullable = true)\n",
      " |-- total_bedrooms: double (nullable = true)\n",
      " |-- population: double (nullable = true)\n",
      " |-- households: double (nullable = true)\n",
      " |-- median_income: double (nullable = true)\n",
      " |-- median_house_value: double (nullable = true)\n",
      " |-- ocean_proximity: string (nullable = true)\n",
      "\n"
     ]
    }
   ],
   "source": [
    "df_housing.printSchema()"
   ]
  },
  {
   "cell_type": "markdown",
   "id": "66fe1000",
   "metadata": {},
   "source": [
    "**ВЫВОД**\n",
    "\n",
    "Мы загрузили датасет в котором 20640 объектов и 10 признаков. \n",
    "\n",
    "9 признаков из 10 имеют тип double, один признак строковый. \n",
    "\n",
    "Все признаки могут содержать пустые значения."
   ]
  },
  {
   "cell_type": "markdown",
   "id": "9bc1bafc",
   "metadata": {},
   "source": [
    "### Предобработка данных"
   ]
  },
  {
   "cell_type": "markdown",
   "id": "5441f6be",
   "metadata": {},
   "source": [
    "#### Анализ пропусков"
   ]
  },
  {
   "cell_type": "markdown",
   "id": "427b38f5",
   "metadata": {},
   "source": [
    "Исследуем данные на наличие пропусков и заполним их."
   ]
  },
  {
   "cell_type": "code",
   "execution_count": null,
   "id": "0feed81a",
   "metadata": {},
   "outputs": [],
   "source": []
  },
  {
   "cell_type": "markdown",
   "id": "486d2447",
   "metadata": {},
   "source": [
    "#### Кодирование категориальных признаков"
   ]
  },
  {
   "cell_type": "markdown",
   "id": "d3a3ac15",
   "metadata": {},
   "source": [
    "Преобразуем колонку с категориальными значениями техникой One hot encoding."
   ]
  },
  {
   "cell_type": "code",
   "execution_count": null,
   "id": "ce9c7178",
   "metadata": {},
   "outputs": [],
   "source": []
  },
  {
   "cell_type": "markdown",
   "id": "2a881684",
   "metadata": {},
   "source": [
    "### Разделение  на обучающую и тестовые выборки"
   ]
  },
  {
   "cell_type": "code",
   "execution_count": null,
   "id": "f333832d",
   "metadata": {},
   "outputs": [],
   "source": []
  },
  {
   "cell_type": "markdown",
   "id": "d0d373bf",
   "metadata": {},
   "source": [
    "## Обучение моделей"
   ]
  },
  {
   "cell_type": "markdown",
   "id": "903cdb18",
   "metadata": {},
   "source": [
    "Для построения модели возьмем оценщик LinearRegression из библиотеки MLlib. \n",
    "\n",
    "Построим две модели линейной регрессии на разных наборах данных: полном наборе и только на числовых признаках."
   ]
  },
  {
   "cell_type": "markdown",
   "id": "b8e8be9b",
   "metadata": {},
   "source": [
    "### Полный набор данных"
   ]
  },
  {
   "cell_type": "code",
   "execution_count": null,
   "id": "cca64936",
   "metadata": {},
   "outputs": [],
   "source": []
  },
  {
   "cell_type": "markdown",
   "id": "25a65f41",
   "metadata": {},
   "source": [
    "### Только числовые признаки"
   ]
  },
  {
   "cell_type": "code",
   "execution_count": null,
   "id": "0fa4df76",
   "metadata": {},
   "outputs": [],
   "source": []
  },
  {
   "cell_type": "markdown",
   "id": "1f716ab7",
   "metadata": {},
   "source": [
    "## Анализ результатов"
   ]
  },
  {
   "cell_type": "markdown",
   "id": "67c1f321",
   "metadata": {},
   "source": [
    "Сравним результаты работы двух моделей на тестовой выборке по метрикам RMSE, MAE и R2. "
   ]
  },
  {
   "cell_type": "code",
   "execution_count": null,
   "id": "01422342",
   "metadata": {},
   "outputs": [],
   "source": []
  },
  {
   "cell_type": "markdown",
   "id": "f29fde4b",
   "metadata": {},
   "source": [
    "## Выводы"
   ]
  },
  {
   "cell_type": "markdown",
   "id": "e06846c0",
   "metadata": {},
   "source": []
  }
 ],
 "metadata": {
  "kernelspec": {
   "display_name": "Python 3 (ipykernel)",
   "language": "python",
   "name": "python3"
  },
  "language_info": {
   "codemirror_mode": {
    "name": "ipython",
    "version": 3
   },
   "file_extension": ".py",
   "mimetype": "text/x-python",
   "name": "python",
   "nbconvert_exporter": "python",
   "pygments_lexer": "ipython3",
   "version": "3.9.12"
  },
  "toc": {
   "base_numbering": 1,
   "nav_menu": {},
   "number_sections": true,
   "sideBar": true,
   "skip_h1_title": true,
   "title_cell": "Table of Contents",
   "title_sidebar": "Contents",
   "toc_cell": false,
   "toc_position": {},
   "toc_section_display": true,
   "toc_window_display": true
  }
 },
 "nbformat": 4,
 "nbformat_minor": 5
}
