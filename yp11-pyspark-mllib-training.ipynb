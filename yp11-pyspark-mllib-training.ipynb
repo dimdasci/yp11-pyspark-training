{
 "cells": [
  {
   "cell_type": "markdown",
   "id": "c531a5f4",
   "metadata": {},
   "source": [
    "#  Предсказание стоимости дома"
   ]
  },
  {
   "cell_type": "markdown",
   "id": "71cc5677",
   "metadata": {},
   "source": [
    "В проекте нам нужно обучить модель линейной регрессии на данных о [жилье в Калифорнии в 1990 году](https://www.kaggle.com/datasets/camnugent/california-housing-prices) (CC0: Public Domain). \n",
    "\n",
    "В колонках датасета содержатся следующие данные:\n",
    "- `longitude` — широта;\n",
    "- `latitude` — долгота;\n",
    "- `housing_median_age` — медианный возраст жителей жилого массива;\n",
    "- `total_rooms` — общее количество комнат в домах жилого массива;\n",
    "- `total_bedrooms` — общее количество спален в домах жилого массива;\n",
    "- `population` — количество человек, которые проживают в жилом массиве;\n",
    "- `households` — количество домовладений в жилом массиве;\n",
    "- `median_income` — медианный доход жителей жилого массива;\n",
    "- `median_house_value` — медианная стоимость дома в жилом массиве;\n",
    "- `ocean_proximity` — близость к океану.\n",
    "\n",
    "На основе данных нужно предсказать медианную стоимость дома в жилом массиве — `median_house_value`. \n",
    "\n",
    "Оценку качества модели нужно сделать по метрикам RMSE, MAE и R2."
   ]
  },
  {
   "cell_type": "markdown",
   "id": "d04a1741",
   "metadata": {},
   "source": [
    "## Цель исследования"
   ]
  },
  {
   "cell_type": "markdown",
   "id": "ced28cf5",
   "metadata": {},
   "source": [
    "Целью исследования являетя разработка модели прогнозирования стоимости жилья с применением распределенных вычислений. "
   ]
  },
  {
   "cell_type": "markdown",
   "id": "efed42e3",
   "metadata": {},
   "source": [
    "### Постановка задачи"
   ]
  },
  {
   "cell_type": "markdown",
   "id": "3ce42747",
   "metadata": {},
   "source": [
    "В данной работе нам надо, используя распределенные вычисления:\n",
    "- провести анализ данных;\n",
    "- построить две модели линейной регрессии, предсказывающие стоимость жилья: одну на полном наборе признаков, другую только на числовых признаках;\n",
    "- сравнить результаты работы по метрикам RMSE, MAE и R2."
   ]
  },
  {
   "cell_type": "markdown",
   "id": "7e102f54",
   "metadata": {},
   "source": [
    "### Основные этапы"
   ]
  },
  {
   "cell_type": "markdown",
   "id": "1f6df55f",
   "metadata": {},
   "source": [
    "1. Инициализируем локальную Spark-сессию.\n",
    "2. Прочитаем содержимое файла `/datasets/housing.csv`.\n",
    "3. Выведем типы данных колонок датасета, применив методы pySpark.\n",
    "4. Выполним предобработку данных:\n",
    "    - Исследуем данные на наличие пропусков и заполним их.\n",
    "    - Преобразуем колонку с категориальными значениями техникой One hot encoding.\n",
    "    - Выполним масштабирование числовых значений.\n",
    "5. Построим две модели линейной регрессии на разных наборах данных:\n",
    "    - используя все данные из файла;\n",
    "    - используя только числовые переменные, исключив категориальные.\n",
    "6. Для построения модели возьмем оценщик LinearRegression из библиотеки MLlib.\n",
    "7. Сравним результаты работы линейной регрессии на двух наборах данных по метрикам RMSE, MAE и R2. \n",
    "8. Сделаем выводы."
   ]
  },
  {
   "cell_type": "markdown",
   "id": "ff83add5",
   "metadata": {},
   "source": [
    "### Выводы"
   ]
  },
  {
   "cell_type": "markdown",
   "id": "8c6f7819",
   "metadata": {},
   "source": [
    "Полученные в результате проекта модели объясняют 62-63% изменчивости целевого признака (стоимости жилья), то есть обладают предсказательной способностью.\n",
    "\n",
    "Модель, построенная на всех признаках показывает результаты чуть лучшие, чем модель только с чиловыми признаками.\n",
    "\n",
    "Средняя абсолютная ошибка модели составила 50 тыс, исходя из чего мы рекомендуем округлять предсказания модели до 50 тыс.\n",
    "\n",
    "Для редких значений мы наблюдаем в распределении остатков паттерны, что говорит о смещении модели в диапазоне редких значений. Для улучшения модели мы рекомендуем выполнить анализ выбросов и провести чистку данных."
   ]
  },
  {
   "cell_type": "markdown",
   "id": "e2219681",
   "metadata": {},
   "source": [
    "## Подготовка кода"
   ]
  },
  {
   "cell_type": "markdown",
   "id": "20fd5f47",
   "metadata": {},
   "source": [
    "### Загрузка библиотек"
   ]
  },
  {
   "cell_type": "code",
   "execution_count": 2,
   "id": "301e2b88",
   "metadata": {},
   "outputs": [],
   "source": [
    "from os.path import exists"
   ]
  },
  {
   "cell_type": "code",
   "execution_count": 3,
   "id": "b346262d",
   "metadata": {},
   "outputs": [],
   "source": [
    "import pandas as pd \n",
    "import numpy as np"
   ]
  },
  {
   "cell_type": "code",
   "execution_count": 4,
   "id": "fd9092f0",
   "metadata": {},
   "outputs": [],
   "source": [
    "from pyspark.sql import SparkSession\n",
    "from pyspark.sql.types import *\n",
    "import pyspark.sql.functions as F"
   ]
  },
  {
   "cell_type": "code",
   "execution_count": 5,
   "id": "843cbac9",
   "metadata": {},
   "outputs": [],
   "source": [
    "from pyspark.ml.feature import StringIndexer, OneHotEncoder, VectorAssembler, StandardScaler\n",
    "from pyspark.ml.regression import LinearRegression\n",
    "from pyspark.ml.evaluation import RegressionEvaluator"
   ]
  },
  {
   "cell_type": "code",
   "execution_count": 6,
   "id": "34cc799e",
   "metadata": {},
   "outputs": [],
   "source": [
    "import matplotlib.pyplot as plt\n",
    "%matplotlib inline\n",
    "%config InlineBackend.figure_format='retina'"
   ]
  },
  {
   "cell_type": "code",
   "execution_count": 7,
   "id": "0b664850",
   "metadata": {},
   "outputs": [],
   "source": [
    "RANDOM_SEED = 111973"
   ]
  },
  {
   "cell_type": "markdown",
   "id": "26ffbb4d",
   "metadata": {},
   "source": [
    "### Функции"
   ]
  },
  {
   "cell_type": "markdown",
   "id": "568e5bb1",
   "metadata": {},
   "source": [
    "#### explain_model"
   ]
  },
  {
   "cell_type": "code",
   "execution_count": 8,
   "id": "c3894b62",
   "metadata": {},
   "outputs": [],
   "source": [
    "def explain_model(features_names, model):\n",
    "    \"\"\"Отображает коэффициенты регрессии\"\"\"\n",
    "    \n",
    "    print(f'Свободный член: {model.intercept:.0f}')\n",
    "    display(pd.DataFrame(\n",
    "        {'feature': features_names, \n",
    "         'coefficient': list(model.coefficients)}\n",
    "    ).style.format(precision=0))"
   ]
  },
  {
   "cell_type": "markdown",
   "id": "7139b139",
   "metadata": {},
   "source": [
    "#### pack_sample_residuals"
   ]
  },
  {
   "cell_type": "code",
   "execution_count": 9,
   "id": "25914697",
   "metadata": {},
   "outputs": [],
   "source": [
    "def pack_sample_residuals(summary, data, independet_feature, fraction):\n",
    "    \"\"\"Объединяет остатки со значениями независимой переменной и возвращает сэмпл\"\"\"\n",
    "    \n",
    "    residuals_id = summary.residuals.withColumn('row_id', F.monotonically_increasing_id())\n",
    "    feature_id = data.select(independet_feature).withColumn('row_id', F.monotonically_increasing_id())\n",
    "    packed = feature_id \\\n",
    "             .join(residuals_id, on='row_id') \\\n",
    "             .sample(False, fraction, RANDOM_SEED) \\\n",
    "             .sort(independet_feature)     \n",
    "\n",
    "    return packed"
   ]
  },
  {
   "cell_type": "markdown",
   "id": "797a2fab",
   "metadata": {},
   "source": [
    "#### plot_residuals"
   ]
  },
  {
   "cell_type": "code",
   "execution_count": 10,
   "id": "1f753841",
   "metadata": {},
   "outputs": [],
   "source": [
    "def plot_residuals(train, test, ax, title, feature):\n",
    "    \"\"\"Отображает scatter plot для остатков по независимой переменной\"\"\"\n",
    "    ax.set_title(title.upper())\n",
    "    ax.set_ylabel('Residuals')\n",
    "    ax.set_xlabel(feature)\n",
    "\n",
    "    ax.scatter(train[feature], \n",
    "               train.residuals, \n",
    "               alpha=.75, \n",
    "               marker='.', \n",
    "               label='train')\n",
    "    ax.scatter(test[feature], \n",
    "               test.residuals, \n",
    "               alpha=.5, \n",
    "               marker='x', \n",
    "               label='test')\n",
    "    \n",
    "    ax.legend(loc = 'upper right')   "
   ]
  },
  {
   "cell_type": "markdown",
   "id": "2ff7fc74",
   "metadata": {},
   "source": [
    "## Подготовка данных"
   ]
  },
  {
   "cell_type": "markdown",
   "id": "03c482c0",
   "metadata": {},
   "source": [
    "### Загрузка данных"
   ]
  },
  {
   "cell_type": "markdown",
   "id": "a4c162e5",
   "metadata": {},
   "source": [
    "Определим путь для загрузки данных: в текущей директории или корневой."
   ]
  },
  {
   "cell_type": "code",
   "execution_count": 11,
   "id": "8c3f29c9",
   "metadata": {},
   "outputs": [
    {
     "data": {
      "text/plain": [
       "'./datasets/housing.csv'"
      ]
     },
     "execution_count": 11,
     "metadata": {},
     "output_type": "execute_result"
    }
   ],
   "source": [
    "data_path = './datasets/housing.csv'\n",
    "if not exists(data_path):\n",
    "    data_path = data_path[1:]\n",
    "data_path"
   ]
  },
  {
   "cell_type": "markdown",
   "id": "7f8ba6dd",
   "metadata": {},
   "source": [
    "Инициализируем локальную Spark-сессию."
   ]
  },
  {
   "cell_type": "code",
   "execution_count": 12,
   "id": "fec25224",
   "metadata": {},
   "outputs": [
    {
     "name": "stderr",
     "output_type": "stream",
     "text": [
      "22/08/04 19:45:59 WARN NativeCodeLoader: Unable to load native-hadoop library for your platform... using builtin-java classes where applicable\n",
      "Using Spark's default log4j profile: org/apache/spark/log4j-defaults.properties\n",
      "Setting default log level to \"WARN\".\n",
      "To adjust logging level use sc.setLogLevel(newLevel). For SparkR, use setLogLevel(newLevel).\n"
     ]
    }
   ],
   "source": [
    "spark = SparkSession.builder \\\n",
    "                    .master(\"local\") \\\n",
    "                    .appName(\"California Housing median value prediction\") \\\n",
    "                    .getOrCreate()"
   ]
  },
  {
   "cell_type": "markdown",
   "id": "53900f36",
   "metadata": {},
   "source": [
    "Прочитаем содержимое файла данных."
   ]
  },
  {
   "cell_type": "code",
   "execution_count": 13,
   "id": "5333fac2",
   "metadata": {},
   "outputs": [
    {
     "data": {
      "text/plain": [
       "20640"
      ]
     },
     "execution_count": 13,
     "metadata": {},
     "output_type": "execute_result"
    }
   ],
   "source": [
    "df_housing = spark.read.load(data_path, \n",
    "                             format='csv',\n",
    "                             sep=',',\n",
    "                             inferSchema=True,\n",
    "                             header='true'\n",
    "                            )\n",
    "df_housing.count() "
   ]
  },
  {
   "cell_type": "markdown",
   "id": "fd0c07ae",
   "metadata": {},
   "source": [
    "Выведем типы данных колонок датасета."
   ]
  },
  {
   "cell_type": "code",
   "execution_count": 14,
   "id": "dc8baf74",
   "metadata": {},
   "outputs": [
    {
     "name": "stdout",
     "output_type": "stream",
     "text": [
      "root\n",
      " |-- longitude: double (nullable = true)\n",
      " |-- latitude: double (nullable = true)\n",
      " |-- housing_median_age: double (nullable = true)\n",
      " |-- total_rooms: double (nullable = true)\n",
      " |-- total_bedrooms: double (nullable = true)\n",
      " |-- population: double (nullable = true)\n",
      " |-- households: double (nullable = true)\n",
      " |-- median_income: double (nullable = true)\n",
      " |-- median_house_value: double (nullable = true)\n",
      " |-- ocean_proximity: string (nullable = true)\n",
      "\n"
     ]
    }
   ],
   "source": [
    "df_housing.printSchema()"
   ]
  },
  {
   "cell_type": "markdown",
   "id": "66fe1000",
   "metadata": {},
   "source": [
    "**ВЫВОД**\n",
    "\n",
    "Мы загрузили датасет в котором 20640 объектов и 10 признаков. \n",
    "\n",
    "9 признаков из 10 имеют тип double, один признак строковый. \n",
    "\n",
    "Все признаки могут содержать пустые значения."
   ]
  },
  {
   "cell_type": "markdown",
   "id": "9bc1bafc",
   "metadata": {},
   "source": [
    "### Предобработка данных"
   ]
  },
  {
   "cell_type": "markdown",
   "id": "375319bb",
   "metadata": {},
   "source": [
    "#### Обзор"
   ]
  },
  {
   "cell_type": "markdown",
   "id": "5820f905",
   "metadata": {},
   "source": [
    "Посмотрим на первые 10 строк данных. "
   ]
  },
  {
   "cell_type": "code",
   "execution_count": 15,
   "id": "85af6ae3",
   "metadata": {},
   "outputs": [
    {
     "data": {
      "text/html": [
       "<div>\n",
       "<style scoped>\n",
       "    .dataframe tbody tr th:only-of-type {\n",
       "        vertical-align: middle;\n",
       "    }\n",
       "\n",
       "    .dataframe tbody tr th {\n",
       "        vertical-align: top;\n",
       "    }\n",
       "\n",
       "    .dataframe thead th {\n",
       "        text-align: right;\n",
       "    }\n",
       "</style>\n",
       "<table border=\"1\" class=\"dataframe\">\n",
       "  <thead>\n",
       "    <tr style=\"text-align: right;\">\n",
       "      <th></th>\n",
       "      <th>0</th>\n",
       "      <th>1</th>\n",
       "      <th>2</th>\n",
       "      <th>3</th>\n",
       "      <th>4</th>\n",
       "      <th>5</th>\n",
       "      <th>6</th>\n",
       "      <th>7</th>\n",
       "      <th>8</th>\n",
       "      <th>9</th>\n",
       "    </tr>\n",
       "  </thead>\n",
       "  <tbody>\n",
       "    <tr>\n",
       "      <th>longitude</th>\n",
       "      <td>-122.23</td>\n",
       "      <td>-122.22</td>\n",
       "      <td>-122.24</td>\n",
       "      <td>-122.25</td>\n",
       "      <td>-122.25</td>\n",
       "      <td>-122.25</td>\n",
       "      <td>-122.25</td>\n",
       "      <td>-122.25</td>\n",
       "      <td>-122.26</td>\n",
       "      <td>-122.25</td>\n",
       "    </tr>\n",
       "    <tr>\n",
       "      <th>latitude</th>\n",
       "      <td>37.88</td>\n",
       "      <td>37.86</td>\n",
       "      <td>37.85</td>\n",
       "      <td>37.85</td>\n",
       "      <td>37.85</td>\n",
       "      <td>37.85</td>\n",
       "      <td>37.84</td>\n",
       "      <td>37.84</td>\n",
       "      <td>37.84</td>\n",
       "      <td>37.84</td>\n",
       "    </tr>\n",
       "    <tr>\n",
       "      <th>housing_median_age</th>\n",
       "      <td>41.0</td>\n",
       "      <td>21.0</td>\n",
       "      <td>52.0</td>\n",
       "      <td>52.0</td>\n",
       "      <td>52.0</td>\n",
       "      <td>52.0</td>\n",
       "      <td>52.0</td>\n",
       "      <td>52.0</td>\n",
       "      <td>42.0</td>\n",
       "      <td>52.0</td>\n",
       "    </tr>\n",
       "    <tr>\n",
       "      <th>total_rooms</th>\n",
       "      <td>880.0</td>\n",
       "      <td>7099.0</td>\n",
       "      <td>1467.0</td>\n",
       "      <td>1274.0</td>\n",
       "      <td>1627.0</td>\n",
       "      <td>919.0</td>\n",
       "      <td>2535.0</td>\n",
       "      <td>3104.0</td>\n",
       "      <td>2555.0</td>\n",
       "      <td>3549.0</td>\n",
       "    </tr>\n",
       "    <tr>\n",
       "      <th>total_bedrooms</th>\n",
       "      <td>129.0</td>\n",
       "      <td>1106.0</td>\n",
       "      <td>190.0</td>\n",
       "      <td>235.0</td>\n",
       "      <td>280.0</td>\n",
       "      <td>213.0</td>\n",
       "      <td>489.0</td>\n",
       "      <td>687.0</td>\n",
       "      <td>665.0</td>\n",
       "      <td>707.0</td>\n",
       "    </tr>\n",
       "    <tr>\n",
       "      <th>population</th>\n",
       "      <td>322.0</td>\n",
       "      <td>2401.0</td>\n",
       "      <td>496.0</td>\n",
       "      <td>558.0</td>\n",
       "      <td>565.0</td>\n",
       "      <td>413.0</td>\n",
       "      <td>1094.0</td>\n",
       "      <td>1157.0</td>\n",
       "      <td>1206.0</td>\n",
       "      <td>1551.0</td>\n",
       "    </tr>\n",
       "    <tr>\n",
       "      <th>households</th>\n",
       "      <td>126.0</td>\n",
       "      <td>1138.0</td>\n",
       "      <td>177.0</td>\n",
       "      <td>219.0</td>\n",
       "      <td>259.0</td>\n",
       "      <td>193.0</td>\n",
       "      <td>514.0</td>\n",
       "      <td>647.0</td>\n",
       "      <td>595.0</td>\n",
       "      <td>714.0</td>\n",
       "    </tr>\n",
       "    <tr>\n",
       "      <th>median_income</th>\n",
       "      <td>8.3252</td>\n",
       "      <td>8.3014</td>\n",
       "      <td>7.2574</td>\n",
       "      <td>5.6431</td>\n",
       "      <td>3.8462</td>\n",
       "      <td>4.0368</td>\n",
       "      <td>3.6591</td>\n",
       "      <td>3.12</td>\n",
       "      <td>2.0804</td>\n",
       "      <td>3.6912</td>\n",
       "    </tr>\n",
       "    <tr>\n",
       "      <th>median_house_value</th>\n",
       "      <td>452600.0</td>\n",
       "      <td>358500.0</td>\n",
       "      <td>352100.0</td>\n",
       "      <td>341300.0</td>\n",
       "      <td>342200.0</td>\n",
       "      <td>269700.0</td>\n",
       "      <td>299200.0</td>\n",
       "      <td>241400.0</td>\n",
       "      <td>226700.0</td>\n",
       "      <td>261100.0</td>\n",
       "    </tr>\n",
       "    <tr>\n",
       "      <th>ocean_proximity</th>\n",
       "      <td>NEAR BAY</td>\n",
       "      <td>NEAR BAY</td>\n",
       "      <td>NEAR BAY</td>\n",
       "      <td>NEAR BAY</td>\n",
       "      <td>NEAR BAY</td>\n",
       "      <td>NEAR BAY</td>\n",
       "      <td>NEAR BAY</td>\n",
       "      <td>NEAR BAY</td>\n",
       "      <td>NEAR BAY</td>\n",
       "      <td>NEAR BAY</td>\n",
       "    </tr>\n",
       "  </tbody>\n",
       "</table>\n",
       "</div>"
      ],
      "text/plain": [
       "                           0         1         2         3         4  \\\n",
       "longitude            -122.23   -122.22   -122.24   -122.25   -122.25   \n",
       "latitude               37.88     37.86     37.85     37.85     37.85   \n",
       "housing_median_age      41.0      21.0      52.0      52.0      52.0   \n",
       "total_rooms            880.0    7099.0    1467.0    1274.0    1627.0   \n",
       "total_bedrooms         129.0    1106.0     190.0     235.0     280.0   \n",
       "population             322.0    2401.0     496.0     558.0     565.0   \n",
       "households             126.0    1138.0     177.0     219.0     259.0   \n",
       "median_income         8.3252    8.3014    7.2574    5.6431    3.8462   \n",
       "median_house_value  452600.0  358500.0  352100.0  341300.0  342200.0   \n",
       "ocean_proximity     NEAR BAY  NEAR BAY  NEAR BAY  NEAR BAY  NEAR BAY   \n",
       "\n",
       "                           5         6         7         8         9  \n",
       "longitude            -122.25   -122.25   -122.25   -122.26   -122.25  \n",
       "latitude               37.85     37.84     37.84     37.84     37.84  \n",
       "housing_median_age      52.0      52.0      52.0      42.0      52.0  \n",
       "total_rooms            919.0    2535.0    3104.0    2555.0    3549.0  \n",
       "total_bedrooms         213.0     489.0     687.0     665.0     707.0  \n",
       "population             413.0    1094.0    1157.0    1206.0    1551.0  \n",
       "households             193.0     514.0     647.0     595.0     714.0  \n",
       "median_income         4.0368    3.6591      3.12    2.0804    3.6912  \n",
       "median_house_value  269700.0  299200.0  241400.0  226700.0  261100.0  \n",
       "ocean_proximity     NEAR BAY  NEAR BAY  NEAR BAY  NEAR BAY  NEAR BAY  "
      ]
     },
     "execution_count": 15,
     "metadata": {},
     "output_type": "execute_result"
    }
   ],
   "source": [
    "df_housing.limit(10).toPandas().T"
   ]
  },
  {
   "cell_type": "markdown",
   "id": "f16441d7",
   "metadata": {},
   "source": [
    "Изучим статистики признаков."
   ]
  },
  {
   "cell_type": "code",
   "execution_count": 16,
   "id": "9a96e53c",
   "metadata": {},
   "outputs": [
    {
     "name": "stderr",
     "output_type": "stream",
     "text": [
      "                                                                                \r"
     ]
    },
    {
     "data": {
      "text/html": [
       "<div>\n",
       "<style scoped>\n",
       "    .dataframe tbody tr th:only-of-type {\n",
       "        vertical-align: middle;\n",
       "    }\n",
       "\n",
       "    .dataframe tbody tr th {\n",
       "        vertical-align: top;\n",
       "    }\n",
       "\n",
       "    .dataframe thead th {\n",
       "        text-align: right;\n",
       "    }\n",
       "</style>\n",
       "<table border=\"1\" class=\"dataframe\">\n",
       "  <thead>\n",
       "    <tr style=\"text-align: right;\">\n",
       "      <th>summary</th>\n",
       "      <th>count</th>\n",
       "      <th>mean</th>\n",
       "      <th>stddev</th>\n",
       "      <th>min</th>\n",
       "      <th>max</th>\n",
       "    </tr>\n",
       "  </thead>\n",
       "  <tbody>\n",
       "    <tr>\n",
       "      <th>longitude</th>\n",
       "      <td>20640</td>\n",
       "      <td>-119.56970445736148</td>\n",
       "      <td>2.003531723502584</td>\n",
       "      <td>-124.35</td>\n",
       "      <td>-114.31</td>\n",
       "    </tr>\n",
       "    <tr>\n",
       "      <th>latitude</th>\n",
       "      <td>20640</td>\n",
       "      <td>35.6318614341087</td>\n",
       "      <td>2.135952397457101</td>\n",
       "      <td>32.54</td>\n",
       "      <td>41.95</td>\n",
       "    </tr>\n",
       "    <tr>\n",
       "      <th>housing_median_age</th>\n",
       "      <td>20640</td>\n",
       "      <td>28.639486434108527</td>\n",
       "      <td>12.58555761211163</td>\n",
       "      <td>1.0</td>\n",
       "      <td>52.0</td>\n",
       "    </tr>\n",
       "    <tr>\n",
       "      <th>total_rooms</th>\n",
       "      <td>20640</td>\n",
       "      <td>2635.7630813953488</td>\n",
       "      <td>2181.6152515827944</td>\n",
       "      <td>2.0</td>\n",
       "      <td>39320.0</td>\n",
       "    </tr>\n",
       "    <tr>\n",
       "      <th>total_bedrooms</th>\n",
       "      <td>20433</td>\n",
       "      <td>537.8705525375618</td>\n",
       "      <td>421.38507007403115</td>\n",
       "      <td>1.0</td>\n",
       "      <td>6445.0</td>\n",
       "    </tr>\n",
       "    <tr>\n",
       "      <th>population</th>\n",
       "      <td>20640</td>\n",
       "      <td>1425.4767441860465</td>\n",
       "      <td>1132.46212176534</td>\n",
       "      <td>3.0</td>\n",
       "      <td>35682.0</td>\n",
       "    </tr>\n",
       "    <tr>\n",
       "      <th>households</th>\n",
       "      <td>20640</td>\n",
       "      <td>499.5396802325581</td>\n",
       "      <td>382.3297528316098</td>\n",
       "      <td>1.0</td>\n",
       "      <td>6082.0</td>\n",
       "    </tr>\n",
       "    <tr>\n",
       "      <th>median_income</th>\n",
       "      <td>20640</td>\n",
       "      <td>3.8706710029070246</td>\n",
       "      <td>1.899821717945263</td>\n",
       "      <td>0.4999</td>\n",
       "      <td>15.0001</td>\n",
       "    </tr>\n",
       "    <tr>\n",
       "      <th>median_house_value</th>\n",
       "      <td>20640</td>\n",
       "      <td>206855.81690891474</td>\n",
       "      <td>115395.61587441359</td>\n",
       "      <td>14999.0</td>\n",
       "      <td>500001.0</td>\n",
       "    </tr>\n",
       "    <tr>\n",
       "      <th>ocean_proximity</th>\n",
       "      <td>20640</td>\n",
       "      <td>None</td>\n",
       "      <td>None</td>\n",
       "      <td>&lt;1H OCEAN</td>\n",
       "      <td>NEAR OCEAN</td>\n",
       "    </tr>\n",
       "  </tbody>\n",
       "</table>\n",
       "</div>"
      ],
      "text/plain": [
       "summary             count                 mean              stddev        min  \\\n",
       "longitude           20640  -119.56970445736148   2.003531723502584    -124.35   \n",
       "latitude            20640     35.6318614341087   2.135952397457101      32.54   \n",
       "housing_median_age  20640   28.639486434108527   12.58555761211163        1.0   \n",
       "total_rooms         20640   2635.7630813953488  2181.6152515827944        2.0   \n",
       "total_bedrooms      20433    537.8705525375618  421.38507007403115        1.0   \n",
       "population          20640   1425.4767441860465    1132.46212176534        3.0   \n",
       "households          20640    499.5396802325581   382.3297528316098        1.0   \n",
       "median_income       20640   3.8706710029070246   1.899821717945263     0.4999   \n",
       "median_house_value  20640   206855.81690891474  115395.61587441359    14999.0   \n",
       "ocean_proximity     20640                 None                None  <1H OCEAN   \n",
       "\n",
       "summary                    max  \n",
       "longitude              -114.31  \n",
       "latitude                 41.95  \n",
       "housing_median_age        52.0  \n",
       "total_rooms            39320.0  \n",
       "total_bedrooms          6445.0  \n",
       "population             35682.0  \n",
       "households              6082.0  \n",
       "median_income          15.0001  \n",
       "median_house_value    500001.0  \n",
       "ocean_proximity     NEAR OCEAN  "
      ]
     },
     "execution_count": 16,
     "metadata": {},
     "output_type": "execute_result"
    }
   ],
   "source": [
    "df_housing.describe().toPandas().set_index('summary').T"
   ]
  },
  {
   "cell_type": "markdown",
   "id": "8c002bd6",
   "metadata": {},
   "source": [
    "Минимальные значения для признаков `housing_median_age`, `total_rooms`, `total_bedrooms`, `population`, `households` похожи на выбросы. В настоящий проект не входит задача анализа выбросов, поэтому отметим ее как рекомендованный шаг по улучшению проекта и продолжим работу с имеющимся датасетом."
   ]
  },
  {
   "cell_type": "markdown",
   "id": "f907b152",
   "metadata": {},
   "source": [
    "Мы видим, что признак `ocean_proximity` является категориальным. Остальные признаки являются числовыми. При этом признаки `longitude` и `longitude` являются географическими координатами жилых массивов.\n",
    "\n",
    "Целевым признаком в нашей задаче является `median_house_value`.\n",
    "\n",
    "Сохраним названия целевого, числовых и категориальных признаков."
   ]
  },
  {
   "cell_type": "code",
   "execution_count": 17,
   "id": "ab33cf23",
   "metadata": {},
   "outputs": [],
   "source": [
    "target = 'median_house_value'\n",
    "numerical_columns = df_housing.columns[:-1]\n",
    "numerical_columns.remove(target)\n",
    "categorical_columns = df_housing.columns[-1:]"
   ]
  },
  {
   "cell_type": "code",
   "execution_count": 18,
   "id": "9174a19d",
   "metadata": {
    "scrolled": true
   },
   "outputs": [
    {
     "data": {
      "text/plain": [
       "['longitude',\n",
       " 'latitude',\n",
       " 'housing_median_age',\n",
       " 'total_rooms',\n",
       " 'total_bedrooms',\n",
       " 'population',\n",
       " 'households',\n",
       " 'median_income']"
      ]
     },
     "execution_count": 18,
     "metadata": {},
     "output_type": "execute_result"
    }
   ],
   "source": [
    "numerical_columns"
   ]
  },
  {
   "cell_type": "code",
   "execution_count": 19,
   "id": "9cd6ebc9",
   "metadata": {},
   "outputs": [
    {
     "data": {
      "text/plain": [
       "['ocean_proximity']"
      ]
     },
     "execution_count": 19,
     "metadata": {},
     "output_type": "execute_result"
    }
   ],
   "source": [
    "categorical_columns"
   ]
  },
  {
   "cell_type": "code",
   "execution_count": 20,
   "id": "35ce0b01",
   "metadata": {},
   "outputs": [
    {
     "data": {
      "text/plain": [
       "'median_house_value'"
      ]
     },
     "execution_count": 20,
     "metadata": {},
     "output_type": "execute_result"
    }
   ],
   "source": [
    "target"
   ]
  },
  {
   "cell_type": "markdown",
   "id": "7030f44f",
   "metadata": {},
   "source": [
    "Мы сохранили названия признаков, разделив их на числовые и категориальные, а также выделили целевой признак."
   ]
  },
  {
   "cell_type": "markdown",
   "id": "5441f6be",
   "metadata": {},
   "source": [
    "#### Анализ пропусков"
   ]
  },
  {
   "cell_type": "markdown",
   "id": "427b38f5",
   "metadata": {},
   "source": [
    "Исследуем данные на наличие пропусков и заполним их."
   ]
  },
  {
   "cell_type": "code",
   "execution_count": 21,
   "id": "0feed81a",
   "metadata": {},
   "outputs": [
    {
     "data": {
      "text/html": [
       "<div>\n",
       "<style scoped>\n",
       "    .dataframe tbody tr th:only-of-type {\n",
       "        vertical-align: middle;\n",
       "    }\n",
       "\n",
       "    .dataframe tbody tr th {\n",
       "        vertical-align: top;\n",
       "    }\n",
       "\n",
       "    .dataframe thead th {\n",
       "        text-align: right;\n",
       "    }\n",
       "</style>\n",
       "<table border=\"1\" class=\"dataframe\">\n",
       "  <thead>\n",
       "    <tr style=\"text-align: right;\">\n",
       "      <th></th>\n",
       "      <th>0</th>\n",
       "    </tr>\n",
       "  </thead>\n",
       "  <tbody>\n",
       "    <tr>\n",
       "      <th>longitude</th>\n",
       "      <td>0</td>\n",
       "    </tr>\n",
       "    <tr>\n",
       "      <th>latitude</th>\n",
       "      <td>0</td>\n",
       "    </tr>\n",
       "    <tr>\n",
       "      <th>housing_median_age</th>\n",
       "      <td>0</td>\n",
       "    </tr>\n",
       "    <tr>\n",
       "      <th>total_rooms</th>\n",
       "      <td>0</td>\n",
       "    </tr>\n",
       "    <tr>\n",
       "      <th>total_bedrooms</th>\n",
       "      <td>207</td>\n",
       "    </tr>\n",
       "    <tr>\n",
       "      <th>population</th>\n",
       "      <td>0</td>\n",
       "    </tr>\n",
       "    <tr>\n",
       "      <th>households</th>\n",
       "      <td>0</td>\n",
       "    </tr>\n",
       "    <tr>\n",
       "      <th>median_income</th>\n",
       "      <td>0</td>\n",
       "    </tr>\n",
       "    <tr>\n",
       "      <th>median_house_value</th>\n",
       "      <td>0</td>\n",
       "    </tr>\n",
       "    <tr>\n",
       "      <th>ocean_proximity</th>\n",
       "      <td>0</td>\n",
       "    </tr>\n",
       "  </tbody>\n",
       "</table>\n",
       "</div>"
      ],
      "text/plain": [
       "                      0\n",
       "longitude             0\n",
       "latitude              0\n",
       "housing_median_age    0\n",
       "total_rooms           0\n",
       "total_bedrooms      207\n",
       "population            0\n",
       "households            0\n",
       "median_income         0\n",
       "median_house_value    0\n",
       "ocean_proximity       0"
      ]
     },
     "execution_count": 21,
     "metadata": {},
     "output_type": "execute_result"
    }
   ],
   "source": [
    "na_count = df_housing \\\n",
    "           .select([F.count(F.when(F.col(c).contains('None') | \\\n",
    "                                   F.col(c).contains('NULL') | \\\n",
    "                                   (F.col(c) == '' ) | \\\n",
    "                                   F.col(c).isNull() | \\\n",
    "                                   F.isnan(c), c \n",
    "                                  )).alias(c)\n",
    "                    for c in df_housing.columns])\n",
    "\n",
    "na_count.toPandas().T"
   ]
  },
  {
   "cell_type": "markdown",
   "id": "9762f53b",
   "metadata": {},
   "source": [
    "Признак `total_bedrooms` содержит 207 пропусков. Посмотрим на примеры строк с пропусками."
   ]
  },
  {
   "cell_type": "code",
   "execution_count": 22,
   "id": "ddd738bd",
   "metadata": {},
   "outputs": [
    {
     "data": {
      "text/html": [
       "<div>\n",
       "<style scoped>\n",
       "    .dataframe tbody tr th:only-of-type {\n",
       "        vertical-align: middle;\n",
       "    }\n",
       "\n",
       "    .dataframe tbody tr th {\n",
       "        vertical-align: top;\n",
       "    }\n",
       "\n",
       "    .dataframe thead th {\n",
       "        text-align: right;\n",
       "    }\n",
       "</style>\n",
       "<table border=\"1\" class=\"dataframe\">\n",
       "  <thead>\n",
       "    <tr style=\"text-align: right;\">\n",
       "      <th></th>\n",
       "      <th>0</th>\n",
       "      <th>1</th>\n",
       "      <th>2</th>\n",
       "      <th>3</th>\n",
       "      <th>4</th>\n",
       "      <th>5</th>\n",
       "      <th>6</th>\n",
       "      <th>7</th>\n",
       "      <th>8</th>\n",
       "      <th>9</th>\n",
       "      <th>10</th>\n",
       "      <th>11</th>\n",
       "    </tr>\n",
       "  </thead>\n",
       "  <tbody>\n",
       "    <tr>\n",
       "      <th>longitude</th>\n",
       "      <td>-122.16</td>\n",
       "      <td>-122.17</td>\n",
       "      <td>-122.28</td>\n",
       "      <td>-122.24</td>\n",
       "      <td>-122.1</td>\n",
       "      <td>-122.14</td>\n",
       "      <td>-121.77</td>\n",
       "      <td>-121.95</td>\n",
       "      <td>-121.98</td>\n",
       "      <td>-122.01</td>\n",
       "      <td>-122.08</td>\n",
       "      <td>-119.75</td>\n",
       "    </tr>\n",
       "    <tr>\n",
       "      <th>latitude</th>\n",
       "      <td>37.77</td>\n",
       "      <td>37.75</td>\n",
       "      <td>37.78</td>\n",
       "      <td>37.75</td>\n",
       "      <td>37.69</td>\n",
       "      <td>37.67</td>\n",
       "      <td>39.66</td>\n",
       "      <td>38.03</td>\n",
       "      <td>37.96</td>\n",
       "      <td>37.94</td>\n",
       "      <td>37.88</td>\n",
       "      <td>36.71</td>\n",
       "    </tr>\n",
       "    <tr>\n",
       "      <th>housing_median_age</th>\n",
       "      <td>47.0</td>\n",
       "      <td>38.0</td>\n",
       "      <td>29.0</td>\n",
       "      <td>45.0</td>\n",
       "      <td>41.0</td>\n",
       "      <td>37.0</td>\n",
       "      <td>20.0</td>\n",
       "      <td>5.0</td>\n",
       "      <td>22.0</td>\n",
       "      <td>23.0</td>\n",
       "      <td>26.0</td>\n",
       "      <td>38.0</td>\n",
       "    </tr>\n",
       "    <tr>\n",
       "      <th>total_rooms</th>\n",
       "      <td>1256.0</td>\n",
       "      <td>992.0</td>\n",
       "      <td>5154.0</td>\n",
       "      <td>891.0</td>\n",
       "      <td>746.0</td>\n",
       "      <td>3342.0</td>\n",
       "      <td>3759.0</td>\n",
       "      <td>5526.0</td>\n",
       "      <td>2987.0</td>\n",
       "      <td>3741.0</td>\n",
       "      <td>2947.0</td>\n",
       "      <td>1481.0</td>\n",
       "    </tr>\n",
       "    <tr>\n",
       "      <th>total_bedrooms</th>\n",
       "      <td>NaN</td>\n",
       "      <td>NaN</td>\n",
       "      <td>NaN</td>\n",
       "      <td>NaN</td>\n",
       "      <td>NaN</td>\n",
       "      <td>NaN</td>\n",
       "      <td>NaN</td>\n",
       "      <td>NaN</td>\n",
       "      <td>NaN</td>\n",
       "      <td>NaN</td>\n",
       "      <td>NaN</td>\n",
       "      <td>NaN</td>\n",
       "    </tr>\n",
       "    <tr>\n",
       "      <th>population</th>\n",
       "      <td>570.0</td>\n",
       "      <td>732.0</td>\n",
       "      <td>3741.0</td>\n",
       "      <td>384.0</td>\n",
       "      <td>387.0</td>\n",
       "      <td>1635.0</td>\n",
       "      <td>1705.0</td>\n",
       "      <td>3207.0</td>\n",
       "      <td>1420.0</td>\n",
       "      <td>1339.0</td>\n",
       "      <td>825.0</td>\n",
       "      <td>1543.0</td>\n",
       "    </tr>\n",
       "    <tr>\n",
       "      <th>households</th>\n",
       "      <td>218.0</td>\n",
       "      <td>259.0</td>\n",
       "      <td>1273.0</td>\n",
       "      <td>146.0</td>\n",
       "      <td>161.0</td>\n",
       "      <td>557.0</td>\n",
       "      <td>600.0</td>\n",
       "      <td>1012.0</td>\n",
       "      <td>540.0</td>\n",
       "      <td>499.0</td>\n",
       "      <td>626.0</td>\n",
       "      <td>372.0</td>\n",
       "    </tr>\n",
       "    <tr>\n",
       "      <th>median_income</th>\n",
       "      <td>4.375</td>\n",
       "      <td>1.6196</td>\n",
       "      <td>2.5762</td>\n",
       "      <td>4.9489</td>\n",
       "      <td>3.9063</td>\n",
       "      <td>4.7933</td>\n",
       "      <td>4.712</td>\n",
       "      <td>4.0767</td>\n",
       "      <td>3.65</td>\n",
       "      <td>6.7061</td>\n",
       "      <td>2.933</td>\n",
       "      <td>1.4577</td>\n",
       "    </tr>\n",
       "    <tr>\n",
       "      <th>median_house_value</th>\n",
       "      <td>161900.0</td>\n",
       "      <td>85100.0</td>\n",
       "      <td>173400.0</td>\n",
       "      <td>247100.0</td>\n",
       "      <td>178400.0</td>\n",
       "      <td>186900.0</td>\n",
       "      <td>158600.0</td>\n",
       "      <td>143100.0</td>\n",
       "      <td>204100.0</td>\n",
       "      <td>322300.0</td>\n",
       "      <td>85000.0</td>\n",
       "      <td>49800.0</td>\n",
       "    </tr>\n",
       "    <tr>\n",
       "      <th>ocean_proximity</th>\n",
       "      <td>NEAR BAY</td>\n",
       "      <td>NEAR BAY</td>\n",
       "      <td>NEAR BAY</td>\n",
       "      <td>NEAR BAY</td>\n",
       "      <td>NEAR BAY</td>\n",
       "      <td>NEAR BAY</td>\n",
       "      <td>INLAND</td>\n",
       "      <td>INLAND</td>\n",
       "      <td>INLAND</td>\n",
       "      <td>NEAR BAY</td>\n",
       "      <td>NEAR BAY</td>\n",
       "      <td>INLAND</td>\n",
       "    </tr>\n",
       "  </tbody>\n",
       "</table>\n",
       "</div>"
      ],
      "text/plain": [
       "                          0         1         2         3         4   \\\n",
       "longitude            -122.16   -122.17   -122.28   -122.24    -122.1   \n",
       "latitude               37.77     37.75     37.78     37.75     37.69   \n",
       "housing_median_age      47.0      38.0      29.0      45.0      41.0   \n",
       "total_rooms           1256.0     992.0    5154.0     891.0     746.0   \n",
       "total_bedrooms           NaN       NaN       NaN       NaN       NaN   \n",
       "population             570.0     732.0    3741.0     384.0     387.0   \n",
       "households             218.0     259.0    1273.0     146.0     161.0   \n",
       "median_income          4.375    1.6196    2.5762    4.9489    3.9063   \n",
       "median_house_value  161900.0   85100.0  173400.0  247100.0  178400.0   \n",
       "ocean_proximity     NEAR BAY  NEAR BAY  NEAR BAY  NEAR BAY  NEAR BAY   \n",
       "\n",
       "                          5         6         7         8         9   \\\n",
       "longitude            -122.14   -121.77   -121.95   -121.98   -122.01   \n",
       "latitude               37.67     39.66     38.03     37.96     37.94   \n",
       "housing_median_age      37.0      20.0       5.0      22.0      23.0   \n",
       "total_rooms           3342.0    3759.0    5526.0    2987.0    3741.0   \n",
       "total_bedrooms           NaN       NaN       NaN       NaN       NaN   \n",
       "population            1635.0    1705.0    3207.0    1420.0    1339.0   \n",
       "households             557.0     600.0    1012.0     540.0     499.0   \n",
       "median_income         4.7933     4.712    4.0767      3.65    6.7061   \n",
       "median_house_value  186900.0  158600.0  143100.0  204100.0  322300.0   \n",
       "ocean_proximity     NEAR BAY    INLAND    INLAND    INLAND  NEAR BAY   \n",
       "\n",
       "                          10       11  \n",
       "longitude            -122.08  -119.75  \n",
       "latitude               37.88    36.71  \n",
       "housing_median_age      26.0     38.0  \n",
       "total_rooms           2947.0   1481.0  \n",
       "total_bedrooms           NaN      NaN  \n",
       "population             825.0   1543.0  \n",
       "households             626.0    372.0  \n",
       "median_income          2.933   1.4577  \n",
       "median_house_value   85000.0  49800.0  \n",
       "ocean_proximity     NEAR BAY   INLAND  "
      ]
     },
     "execution_count": 22,
     "metadata": {},
     "output_type": "execute_result"
    }
   ],
   "source": [
    "df_housing.filter(df_housing.total_bedrooms.isNull()).toPandas().head(12).T"
   ]
  },
  {
   "cell_type": "markdown",
   "id": "ac0c633f",
   "metadata": {},
   "source": [
    "Мы видим, что пропуски есть у объектах, имеющих разные значения удаленности от океана. Возможно типы строений для разной удаленности от океана отличаются. Тогда мы можем заполнить пропуски средними значениями для соответвующей категории дальности. \n",
    "\n",
    "Проверим эту гипотезу. Посчитаем среднее значение спален по значениям удаленности от океана."
   ]
  },
  {
   "cell_type": "code",
   "execution_count": 23,
   "id": "fc4974a2",
   "metadata": {},
   "outputs": [],
   "source": [
    "bedrooms_avg = df_housing \\\n",
    "               .select('ocean_proximity', 'total_bedrooms') \\\n",
    "               .groupBy('ocean_proximity') \\\n",
    "               .agg(F.mean('total_bedrooms').alias('total_bedrooms_avg'))"
   ]
  },
  {
   "cell_type": "code",
   "execution_count": 24,
   "id": "3f0d741f",
   "metadata": {},
   "outputs": [
    {
     "name": "stderr",
     "output_type": "stream",
     "text": [
      "                                                                                \r"
     ]
    },
    {
     "data": {
      "text/html": [
       "<div>\n",
       "<style scoped>\n",
       "    .dataframe tbody tr th:only-of-type {\n",
       "        vertical-align: middle;\n",
       "    }\n",
       "\n",
       "    .dataframe tbody tr th {\n",
       "        vertical-align: top;\n",
       "    }\n",
       "\n",
       "    .dataframe thead th {\n",
       "        text-align: right;\n",
       "    }\n",
       "</style>\n",
       "<table border=\"1\" class=\"dataframe\">\n",
       "  <thead>\n",
       "    <tr style=\"text-align: right;\">\n",
       "      <th></th>\n",
       "      <th>ocean_proximity</th>\n",
       "      <th>total_bedrooms_avg</th>\n",
       "    </tr>\n",
       "  </thead>\n",
       "  <tbody>\n",
       "    <tr>\n",
       "      <th>0</th>\n",
       "      <td>ISLAND</td>\n",
       "      <td>420.400000</td>\n",
       "    </tr>\n",
       "    <tr>\n",
       "      <th>1</th>\n",
       "      <td>NEAR OCEAN</td>\n",
       "      <td>538.615677</td>\n",
       "    </tr>\n",
       "    <tr>\n",
       "      <th>2</th>\n",
       "      <td>NEAR BAY</td>\n",
       "      <td>514.182819</td>\n",
       "    </tr>\n",
       "    <tr>\n",
       "      <th>3</th>\n",
       "      <td>&lt;1H OCEAN</td>\n",
       "      <td>546.539185</td>\n",
       "    </tr>\n",
       "    <tr>\n",
       "      <th>4</th>\n",
       "      <td>INLAND</td>\n",
       "      <td>533.881619</td>\n",
       "    </tr>\n",
       "  </tbody>\n",
       "</table>\n",
       "</div>"
      ],
      "text/plain": [
       "  ocean_proximity  total_bedrooms_avg\n",
       "0          ISLAND          420.400000\n",
       "1      NEAR OCEAN          538.615677\n",
       "2        NEAR BAY          514.182819\n",
       "3       <1H OCEAN          546.539185\n",
       "4          INLAND          533.881619"
      ]
     },
     "execution_count": 24,
     "metadata": {},
     "output_type": "execute_result"
    }
   ],
   "source": [
    "bedrooms_avg.toPandas()"
   ]
  },
  {
   "cell_type": "markdown",
   "id": "2c578951",
   "metadata": {},
   "source": [
    "Мы видим, что среднее значение количества спален зависит от дальности жилого массива от океана. Заполним пропуски средними значениями в зависимости от значения `ocean_proximity`."
   ]
  },
  {
   "cell_type": "markdown",
   "id": "c2913cb6",
   "metadata": {},
   "source": [
    "Присоединим средние значения к основному датасету слева."
   ]
  },
  {
   "cell_type": "code",
   "execution_count": 25,
   "id": "28832b43",
   "metadata": {},
   "outputs": [],
   "source": [
    "df_extended = df_housing.join(bedrooms_avg, ['ocean_proximity'], 'left')"
   ]
  },
  {
   "cell_type": "code",
   "execution_count": 26,
   "id": "a27515ba",
   "metadata": {},
   "outputs": [
    {
     "name": "stdout",
     "output_type": "stream",
     "text": [
      "+---------------+--------------+------------------+\n",
      "|ocean_proximity|total_bedrooms|total_bedrooms_avg|\n",
      "+---------------+--------------+------------------+\n",
      "|       NEAR BAY|         129.0| 514.1828193832599|\n",
      "|       NEAR BAY|        1106.0| 514.1828193832599|\n",
      "|       NEAR BAY|         190.0| 514.1828193832599|\n",
      "|       NEAR BAY|         235.0| 514.1828193832599|\n",
      "|       NEAR BAY|         280.0| 514.1828193832599|\n",
      "+---------------+--------------+------------------+\n",
      "only showing top 5 rows\n",
      "\n"
     ]
    },
    {
     "name": "stderr",
     "output_type": "stream",
     "text": [
      "\r",
      "[Stage 13:===============================================>      (177 + 1) / 200]\r",
      "\r",
      "                                                                                \r"
     ]
    }
   ],
   "source": [
    "df_extended.select('ocean_proximity', 'total_bedrooms', 'total_bedrooms_avg').show(5)"
   ]
  },
  {
   "cell_type": "markdown",
   "id": "8d4913df",
   "metadata": {},
   "source": [
    "Теперь заменим пустые значения в столбце total_bedrooms на средние значения, применив трансформацию `coalesce`, которая сохранить непустое значение без изменений, а пустые заменит значениями из переданного столбца."
   ]
  },
  {
   "cell_type": "code",
   "execution_count": 27,
   "id": "6d05acf0",
   "metadata": {},
   "outputs": [],
   "source": [
    "df_housing = df_extended \\\n",
    "             .withColumn('total_bedrooms', F.coalesce('total_bedrooms', 'total_bedrooms_avg')) \\\n",
    "             .drop('total_bedrooms_avg')"
   ]
  },
  {
   "cell_type": "markdown",
   "id": "40d4a275",
   "metadata": {},
   "source": [
    "Проверим, что непустые значения сохранились."
   ]
  },
  {
   "cell_type": "code",
   "execution_count": 28,
   "id": "57bd33cf",
   "metadata": {},
   "outputs": [
    {
     "name": "stdout",
     "output_type": "stream",
     "text": [
      "+---------------+--------------+\n",
      "|ocean_proximity|total_bedrooms|\n",
      "+---------------+--------------+\n",
      "|       NEAR BAY|         129.0|\n",
      "|       NEAR BAY|        1106.0|\n",
      "|       NEAR BAY|         190.0|\n",
      "|       NEAR BAY|         235.0|\n",
      "|       NEAR BAY|         280.0|\n",
      "+---------------+--------------+\n",
      "only showing top 5 rows\n",
      "\n"
     ]
    }
   ],
   "source": [
    "df_housing.select('ocean_proximity', 'total_bedrooms').show(5)"
   ]
  },
  {
   "cell_type": "markdown",
   "id": "1faf7bae",
   "metadata": {},
   "source": [
    "Все в порядке. Проверим, что пропуски заполнены."
   ]
  },
  {
   "cell_type": "code",
   "execution_count": 29,
   "id": "e3b22349",
   "metadata": {},
   "outputs": [
    {
     "data": {
      "text/html": [
       "<div>\n",
       "<style scoped>\n",
       "    .dataframe tbody tr th:only-of-type {\n",
       "        vertical-align: middle;\n",
       "    }\n",
       "\n",
       "    .dataframe tbody tr th {\n",
       "        vertical-align: top;\n",
       "    }\n",
       "\n",
       "    .dataframe thead th {\n",
       "        text-align: right;\n",
       "    }\n",
       "</style>\n",
       "<table border=\"1\" class=\"dataframe\">\n",
       "  <thead>\n",
       "    <tr style=\"text-align: right;\">\n",
       "      <th></th>\n",
       "      <th>0</th>\n",
       "    </tr>\n",
       "  </thead>\n",
       "  <tbody>\n",
       "    <tr>\n",
       "      <th>ocean_proximity</th>\n",
       "      <td>0</td>\n",
       "    </tr>\n",
       "    <tr>\n",
       "      <th>longitude</th>\n",
       "      <td>0</td>\n",
       "    </tr>\n",
       "    <tr>\n",
       "      <th>latitude</th>\n",
       "      <td>0</td>\n",
       "    </tr>\n",
       "    <tr>\n",
       "      <th>housing_median_age</th>\n",
       "      <td>0</td>\n",
       "    </tr>\n",
       "    <tr>\n",
       "      <th>total_rooms</th>\n",
       "      <td>0</td>\n",
       "    </tr>\n",
       "    <tr>\n",
       "      <th>total_bedrooms</th>\n",
       "      <td>0</td>\n",
       "    </tr>\n",
       "    <tr>\n",
       "      <th>population</th>\n",
       "      <td>0</td>\n",
       "    </tr>\n",
       "    <tr>\n",
       "      <th>households</th>\n",
       "      <td>0</td>\n",
       "    </tr>\n",
       "    <tr>\n",
       "      <th>median_income</th>\n",
       "      <td>0</td>\n",
       "    </tr>\n",
       "    <tr>\n",
       "      <th>median_house_value</th>\n",
       "      <td>0</td>\n",
       "    </tr>\n",
       "  </tbody>\n",
       "</table>\n",
       "</div>"
      ],
      "text/plain": [
       "                    0\n",
       "ocean_proximity     0\n",
       "longitude           0\n",
       "latitude            0\n",
       "housing_median_age  0\n",
       "total_rooms         0\n",
       "total_bedrooms      0\n",
       "population          0\n",
       "households          0\n",
       "median_income       0\n",
       "median_house_value  0"
      ]
     },
     "execution_count": 29,
     "metadata": {},
     "output_type": "execute_result"
    }
   ],
   "source": [
    "na_count = df_housing \\\n",
    "           .select([F.count(F.when(F.col(c).contains('None') | \\\n",
    "                                   F.col(c).contains('NULL') | \\\n",
    "                                   (F.col(c) == '' ) | \\\n",
    "                                   F.col(c).isNull() | \\\n",
    "                                   F.isnan(c), c \n",
    "                                  )).alias(c)\n",
    "                    for c in df_housing.columns])\n",
    "\n",
    "na_count.toPandas().T"
   ]
  },
  {
   "cell_type": "markdown",
   "id": "284ef717",
   "metadata": {},
   "source": [
    "Пропусков больше нет. И проверим, что средние значения по категориям дальности не изменились, поскольку мы заполнили пропуски средними же значениями."
   ]
  },
  {
   "cell_type": "code",
   "execution_count": 30,
   "id": "05df6f1c",
   "metadata": {},
   "outputs": [
    {
     "data": {
      "text/html": [
       "<div>\n",
       "<style scoped>\n",
       "    .dataframe tbody tr th:only-of-type {\n",
       "        vertical-align: middle;\n",
       "    }\n",
       "\n",
       "    .dataframe tbody tr th {\n",
       "        vertical-align: top;\n",
       "    }\n",
       "\n",
       "    .dataframe thead th {\n",
       "        text-align: right;\n",
       "    }\n",
       "</style>\n",
       "<table border=\"1\" class=\"dataframe\">\n",
       "  <thead>\n",
       "    <tr style=\"text-align: right;\">\n",
       "      <th></th>\n",
       "      <th>ocean_proximity</th>\n",
       "      <th>total_bedrooms_avg</th>\n",
       "    </tr>\n",
       "  </thead>\n",
       "  <tbody>\n",
       "    <tr>\n",
       "      <th>0</th>\n",
       "      <td>ISLAND</td>\n",
       "      <td>420.400000</td>\n",
       "    </tr>\n",
       "    <tr>\n",
       "      <th>1</th>\n",
       "      <td>NEAR OCEAN</td>\n",
       "      <td>538.615677</td>\n",
       "    </tr>\n",
       "    <tr>\n",
       "      <th>2</th>\n",
       "      <td>NEAR BAY</td>\n",
       "      <td>514.182819</td>\n",
       "    </tr>\n",
       "    <tr>\n",
       "      <th>3</th>\n",
       "      <td>&lt;1H OCEAN</td>\n",
       "      <td>546.539185</td>\n",
       "    </tr>\n",
       "    <tr>\n",
       "      <th>4</th>\n",
       "      <td>INLAND</td>\n",
       "      <td>533.881619</td>\n",
       "    </tr>\n",
       "  </tbody>\n",
       "</table>\n",
       "</div>"
      ],
      "text/plain": [
       "  ocean_proximity  total_bedrooms_avg\n",
       "0          ISLAND          420.400000\n",
       "1      NEAR OCEAN          538.615677\n",
       "2        NEAR BAY          514.182819\n",
       "3       <1H OCEAN          546.539185\n",
       "4          INLAND          533.881619"
      ]
     },
     "execution_count": 30,
     "metadata": {},
     "output_type": "execute_result"
    }
   ],
   "source": [
    "bedrooms_avg = df_housing \\\n",
    "               .select('ocean_proximity', 'total_bedrooms') \\\n",
    "               .groupBy('ocean_proximity') \\\n",
    "               .agg(F.mean('total_bedrooms').alias('total_bedrooms_avg'))\n",
    "bedrooms_avg.toPandas()"
   ]
  },
  {
   "cell_type": "markdown",
   "id": "e10b7859",
   "metadata": {},
   "source": [
    "Средние значения не изменились. \n",
    "\n",
    "**ВЫВОД**\n",
    "\n",
    "Мы обнаружили 207 пропущенных значений признака `total_bedrooms` и заменили их средними значениями по категориям удаленности от океана."
   ]
  },
  {
   "cell_type": "markdown",
   "id": "486d2447",
   "metadata": {},
   "source": [
    "#### Кодирование категориальных признаков"
   ]
  },
  {
   "cell_type": "markdown",
   "id": "d3a3ac15",
   "metadata": {},
   "source": [
    "Преобразуем колонку с категориальными значениями техникой One hot encoding.\n",
    "\n",
    "Сначала перевем текстовые категории в числовое представление, так как one-hot encoder работает с числовыми индексами категорий."
   ]
  },
  {
   "cell_type": "code",
   "execution_count": 31,
   "id": "ce9c7178",
   "metadata": {},
   "outputs": [],
   "source": [
    "indexer = StringIndexer(inputCols=categorical_columns, \n",
    "                        outputCols=[c+'_idx' for c in categorical_columns]) \n",
    "df_housing = indexer.fit(df_housing).transform(df_housing)"
   ]
  },
  {
   "cell_type": "code",
   "execution_count": 32,
   "id": "f6dc9cd7",
   "metadata": {},
   "outputs": [
    {
     "name": "stdout",
     "output_type": "stream",
     "text": [
      "+---------------+-------------------+-------------------+\n",
      "|ocean_proximity|ocean_proximity_idx|ocean_proximity_ohe|\n",
      "+---------------+-------------------+-------------------+\n",
      "|       NEAR BAY|                3.0|      (4,[3],[1.0])|\n",
      "|       NEAR BAY|                3.0|      (4,[3],[1.0])|\n",
      "|       NEAR BAY|                3.0|      (4,[3],[1.0])|\n",
      "+---------------+-------------------+-------------------+\n",
      "only showing top 3 rows\n",
      "\n"
     ]
    }
   ],
   "source": [
    "encoder = OneHotEncoder(inputCols=[c+'_idx' for c in categorical_columns],\n",
    "                        outputCols=[c+'_ohe' for c in categorical_columns])\n",
    "df_housing = encoder.fit(df_housing).transform(df_housing)\n",
    "\n",
    "cols = [c for c in df_housing.columns for i in categorical_columns if (c.startswith(i))]\n",
    "df_housing.select(cols).show(3) "
   ]
  },
  {
   "cell_type": "markdown",
   "id": "a9a5d0b0",
   "metadata": {},
   "source": [
    "Сохраним названия признаков, соответвующих их численным индексам."
   ]
  },
  {
   "cell_type": "code",
   "execution_count": 33,
   "id": "93d1aa38",
   "metadata": {},
   "outputs": [
    {
     "name": "stderr",
     "output_type": "stream",
     "text": [
      "                                                                                \r"
     ]
    },
    {
     "data": {
      "text/plain": [
       "['<1H OCEAN', 'INLAND', 'NEAR OCEAN', 'NEAR BAY', 'ISLAND']"
      ]
     },
     "execution_count": 33,
     "metadata": {},
     "output_type": "execute_result"
    }
   ],
   "source": [
    "ocean_proximity_names = [ r['ocean_proximity']  \n",
    "                       for r in df_housing \\\n",
    "                                .select('ocean_proximity', 'ocean_proximity_idx') \\\n",
    "                                .groupBy('ocean_proximity_idx', 'ocean_proximity') \\\n",
    "                                .count() \\\n",
    "                                .sort('ocean_proximity_idx') \\\n",
    "                                .collect() ]\n",
    "\n",
    "ocean_proximity_names"
   ]
  },
  {
   "cell_type": "markdown",
   "id": "1a7e2d73",
   "metadata": {},
   "source": [
    "Объединим закодированные признаки в вектор."
   ]
  },
  {
   "cell_type": "code",
   "execution_count": 34,
   "id": "ff2f2e56",
   "metadata": {},
   "outputs": [],
   "source": [
    "categorical_assembler = \\\n",
    "        VectorAssembler(inputCols=[c+'_ohe' for c in categorical_columns],\n",
    "                                        outputCol='categorical_features')\n",
    "df_housing = categorical_assembler.transform(df_housing) "
   ]
  },
  {
   "cell_type": "markdown",
   "id": "a115aadc",
   "metadata": {},
   "source": [
    "**ВЫВОД**\n",
    "\n",
    "Мы преобразовали признаки с категориальными значениями техникой One hot encoding и сохранили закодированные признаки в вектор."
   ]
  },
  {
   "cell_type": "markdown",
   "id": "7605b1bb",
   "metadata": {},
   "source": [
    "#### Трансформация числовых признаков"
   ]
  },
  {
   "cell_type": "markdown",
   "id": "1d4a0ed0",
   "metadata": {},
   "source": [
    "К числовым признакам применим транфсормацию масштабирования, приводящую мат ожидание признака к нулю и дисперисю к 1."
   ]
  },
  {
   "cell_type": "code",
   "execution_count": 35,
   "id": "cd9abe79",
   "metadata": {},
   "outputs": [],
   "source": [
    "numerical_assembler = VectorAssembler(inputCols=numerical_columns,\n",
    "                                      outputCol='numerical_features')\n",
    "df_housing = numerical_assembler.transform(df_housing)"
   ]
  },
  {
   "cell_type": "code",
   "execution_count": 36,
   "id": "e147621b",
   "metadata": {},
   "outputs": [],
   "source": [
    "standardScaler = StandardScaler(inputCol='numerical_features',\n",
    "                                outputCol='numerical_features_scaled')\n",
    "df_housing = standardScaler.fit(df_housing).transform(df_housing) "
   ]
  },
  {
   "cell_type": "markdown",
   "id": "dab1a5d9",
   "metadata": {},
   "source": [
    "#### Сбор трансформированных признаков"
   ]
  },
  {
   "cell_type": "markdown",
   "id": "1d056dba",
   "metadata": {},
   "source": [
    "Соберем в один вектор трансформированные категориальные и числовые признаки."
   ]
  },
  {
   "cell_type": "code",
   "execution_count": 37,
   "id": "6128c3e1",
   "metadata": {},
   "outputs": [],
   "source": [
    "all_features = ['categorical_features','numerical_features_scaled']\n",
    "\n",
    "final_assembler = VectorAssembler(inputCols=all_features, \n",
    "                                  outputCol='features') \n",
    "df_housing = final_assembler.transform(df_housing)"
   ]
  },
  {
   "cell_type": "markdown",
   "id": "f24a7ea8",
   "metadata": {},
   "source": [
    "Посмотрим на схему итогового датасета."
   ]
  },
  {
   "cell_type": "code",
   "execution_count": 38,
   "id": "1d12e6df",
   "metadata": {},
   "outputs": [
    {
     "name": "stdout",
     "output_type": "stream",
     "text": [
      "root\n",
      " |-- ocean_proximity: string (nullable = true)\n",
      " |-- longitude: double (nullable = true)\n",
      " |-- latitude: double (nullable = true)\n",
      " |-- housing_median_age: double (nullable = true)\n",
      " |-- total_rooms: double (nullable = true)\n",
      " |-- total_bedrooms: double (nullable = true)\n",
      " |-- population: double (nullable = true)\n",
      " |-- households: double (nullable = true)\n",
      " |-- median_income: double (nullable = true)\n",
      " |-- median_house_value: double (nullable = true)\n",
      " |-- ocean_proximity_idx: double (nullable = false)\n",
      " |-- ocean_proximity_ohe: vector (nullable = true)\n",
      " |-- categorical_features: vector (nullable = true)\n",
      " |-- numerical_features: vector (nullable = true)\n",
      " |-- numerical_features_scaled: vector (nullable = true)\n",
      " |-- features: vector (nullable = true)\n",
      "\n"
     ]
    }
   ],
   "source": [
    "df_housing.printSchema()"
   ]
  },
  {
   "cell_type": "markdown",
   "id": "94c2b2cc",
   "metadata": {},
   "source": [
    "И сохраним названия трансформированных признаков: значения категориального признака кроме последенго ."
   ]
  },
  {
   "cell_type": "code",
   "execution_count": 39,
   "id": "7dbdf159",
   "metadata": {},
   "outputs": [
    {
     "data": {
      "text/plain": [
       "['<1H OCEAN',\n",
       " 'INLAND',\n",
       " 'NEAR OCEAN',\n",
       " 'NEAR BAY',\n",
       " 'longitude',\n",
       " 'latitude',\n",
       " 'housing_median_age',\n",
       " 'total_rooms',\n",
       " 'total_bedrooms',\n",
       " 'population',\n",
       " 'households',\n",
       " 'median_income']"
      ]
     },
     "execution_count": 39,
     "metadata": {},
     "output_type": "execute_result"
    }
   ],
   "source": [
    "all_features_names = ocean_proximity_names[:-1] + numerical_columns\n",
    "\n",
    "all_features_names"
   ]
  },
  {
   "cell_type": "markdown",
   "id": "549abcd5",
   "metadata": {},
   "source": [
    "#### Вывод"
   ]
  },
  {
   "cell_type": "markdown",
   "id": "3d1161ff",
   "metadata": {},
   "source": [
    "На этапе предобработки мы выявили пропуски в признаке total_bedrooms и заполнили их средними значениями по категориям близости к океану.\n",
    "\n",
    "Мы выполнили кодирование категориальных признаков методом One-hot encoding и сделали масштабирование числовых признаков.\n",
    "\n",
    "Трансформированные признаки мы собрали в вектора. Для дальнейше работы нам понадобятся:\n",
    "- `features` для первой модели,\n",
    "- `numerical_features_scaled` для второй модели."
   ]
  },
  {
   "cell_type": "markdown",
   "id": "2a881684",
   "metadata": {},
   "source": [
    "### Разделение  на обучающую и тестовые выборки"
   ]
  },
  {
   "cell_type": "markdown",
   "id": "fe732230",
   "metadata": {},
   "source": [
    "Разделим наш датасет на две части — выборку для обучения и выборку для тестирования качества модели в соотношениее 70:30."
   ]
  },
  {
   "cell_type": "code",
   "execution_count": 40,
   "id": "f333832d",
   "metadata": {},
   "outputs": [
    {
     "name": "stdout",
     "output_type": "stream",
     "text": [
      "Пропорция 0.7 : 0.3\n"
     ]
    }
   ],
   "source": [
    "train_data, test_data = df_housing.randomSplit([.7,.3], seed=RANDOM_SEED)\n",
    "total_count = df_housing.count()\n",
    "train_count = train_data.count()\n",
    "test_count = test_data.count()\n",
    "\n",
    "print(f'Пропорция {train_count/total_count:.1f} : {test_count/total_count:.1f}') "
   ]
  },
  {
   "cell_type": "code",
   "execution_count": 41,
   "id": "36c16b58",
   "metadata": {},
   "outputs": [
    {
     "name": "stdout",
     "output_type": "stream",
     "text": [
      "+-------+------------------+\n",
      "|summary|median_house_value|\n",
      "+-------+------------------+\n",
      "|  count|             14491|\n",
      "|   mean|206347.95983714028|\n",
      "| stddev|115387.73739756962|\n",
      "|    min|           14999.0|\n",
      "|    max|          500001.0|\n",
      "+-------+------------------+\n",
      "\n"
     ]
    }
   ],
   "source": [
    "train_data.select(target).describe().show()"
   ]
  },
  {
   "cell_type": "code",
   "execution_count": 42,
   "id": "82310819",
   "metadata": {},
   "outputs": [
    {
     "name": "stdout",
     "output_type": "stream",
     "text": [
      "+-------+------------------+\n",
      "|summary|median_house_value|\n",
      "+-------+------------------+\n",
      "|  count|              6149|\n",
      "|   mean| 208052.6549032363|\n",
      "| stddev|115414.72531459454|\n",
      "|    min|           14999.0|\n",
      "|    max|          500001.0|\n",
      "+-------+------------------+\n",
      "\n"
     ]
    }
   ],
   "source": [
    "test_data.select(target).describe().show()"
   ]
  },
  {
   "cell_type": "markdown",
   "id": "b288dc19",
   "metadata": {},
   "source": [
    "Мы видим, что статистики обучающей и тестовой выборок схожи, значит разделение выполнено корректно."
   ]
  },
  {
   "cell_type": "markdown",
   "id": "ff6e58af",
   "metadata": {},
   "source": [
    "### Вывод"
   ]
  },
  {
   "cell_type": "markdown",
   "id": "ac7c4000",
   "metadata": {},
   "source": [
    "Мы проанализировали данные, исправили ошибки, закодировали строковые категориальные значения, привели числовые признаки к одному масштабу и подготовили обучающую и тестовую выборки."
   ]
  },
  {
   "cell_type": "markdown",
   "id": "d0d373bf",
   "metadata": {},
   "source": [
    "## Обучение моделей"
   ]
  },
  {
   "cell_type": "markdown",
   "id": "903cdb18",
   "metadata": {},
   "source": [
    "Для построения модели возьмем оценщик LinearRegression из библиотеки MLlib. \n",
    "\n",
    "Построим две модели линейной регрессии на разных наборах данных: полном наборе и только на числовых признаках."
   ]
  },
  {
   "cell_type": "markdown",
   "id": "b8e8be9b",
   "metadata": {},
   "source": [
    "### Полный набор данных"
   ]
  },
  {
   "cell_type": "markdown",
   "id": "24e4f1de",
   "metadata": {},
   "source": [
    "Создадим оценщик для всех данных, обучем его на обучающем датасете, и сохраним трансформер обученной модели."
   ]
  },
  {
   "cell_type": "code",
   "execution_count": 43,
   "id": "cca64936",
   "metadata": {
    "scrolled": true
   },
   "outputs": [
    {
     "name": "stderr",
     "output_type": "stream",
     "text": [
      "22/08/04 19:46:26 WARN BLAS: Failed to load implementation from: com.github.fommil.netlib.NativeSystemBLAS\n",
      "22/08/04 19:46:26 WARN BLAS: Failed to load implementation from: com.github.fommil.netlib.NativeRefBLAS\n",
      "22/08/04 19:46:26 WARN LAPACK: Failed to load implementation from: com.github.fommil.netlib.NativeSystemLAPACK\n",
      "22/08/04 19:46:26 WARN LAPACK: Failed to load implementation from: com.github.fommil.netlib.NativeRefLAPACK\n"
     ]
    }
   ],
   "source": [
    "lr_all = LinearRegression(labelCol=target, \n",
    "                          featuresCol='features',\n",
    "                          maxIter=10, \n",
    "                          regParam=0.3)\n",
    "model_all = lr_all.fit(train_data)"
   ]
  },
  {
   "cell_type": "markdown",
   "id": "016e546a",
   "metadata": {},
   "source": [
    "Теперь мы можем применить трансформер для оценки качества модели и предсказания на тестовой выборке. Сохраним результаты оценки и новый датасет с предсказаниями для анализа."
   ]
  },
  {
   "cell_type": "code",
   "execution_count": 44,
   "id": "4f89bbe2",
   "metadata": {},
   "outputs": [],
   "source": [
    "evaluation_all = model_all.evaluate(test_data)"
   ]
  },
  {
   "cell_type": "code",
   "execution_count": 45,
   "id": "01f26c0d",
   "metadata": {},
   "outputs": [
    {
     "name": "stdout",
     "output_type": "stream",
     "text": [
      "+--------------------+------------------+------------------+\n",
      "|            features|median_house_value|        prediction|\n",
      "+--------------------+------------------+------------------+\n",
      "|[1.0,0.0,0.0,0.0,...|           92500.0|165973.57299855934|\n",
      "|[1.0,0.0,0.0,0.0,...|           55000.0|213797.76812711987|\n",
      "|[1.0,0.0,0.0,0.0,...|           72300.0|153787.03982375166|\n",
      "|[1.0,0.0,0.0,0.0,...|           57500.0|155369.46075806045|\n",
      "|[1.0,0.0,0.0,0.0,...|          119900.0| 206286.2321400924|\n",
      "+--------------------+------------------+------------------+\n",
      "only showing top 5 rows\n",
      "\n"
     ]
    }
   ],
   "source": [
    "predictions_all = model_all.transform(test_data)\n",
    "\n",
    "predictedLabes_all = predictions_all.select('features', target, 'prediction')\n",
    "predictedLabes_all.show(5) "
   ]
  },
  {
   "cell_type": "markdown",
   "id": "5c7064f3",
   "metadata": {},
   "source": [
    "Посмотрим на параметры линейной регресии, подобранные моделью при обучении."
   ]
  },
  {
   "cell_type": "code",
   "execution_count": 46,
   "id": "dbf0ac84",
   "metadata": {},
   "outputs": [
    {
     "name": "stdout",
     "output_type": "stream",
     "text": [
      "Свободный член: -2030560\n"
     ]
    },
    {
     "data": {
      "text/html": [
       "<style type=\"text/css\">\n",
       "</style>\n",
       "<table id=\"T_fef84\">\n",
       "  <thead>\n",
       "    <tr>\n",
       "      <th class=\"blank level0\" >&nbsp;</th>\n",
       "      <th id=\"T_fef84_level0_col0\" class=\"col_heading level0 col0\" >feature</th>\n",
       "      <th id=\"T_fef84_level0_col1\" class=\"col_heading level0 col1\" >coefficient</th>\n",
       "    </tr>\n",
       "  </thead>\n",
       "  <tbody>\n",
       "    <tr>\n",
       "      <th id=\"T_fef84_level0_row0\" class=\"row_heading level0 row0\" >0</th>\n",
       "      <td id=\"T_fef84_row0_col0\" class=\"data row0 col0\" ><1H OCEAN</td>\n",
       "      <td id=\"T_fef84_row0_col1\" class=\"data row0 col1\" >-155690</td>\n",
       "    </tr>\n",
       "    <tr>\n",
       "      <th id=\"T_fef84_level0_row1\" class=\"row_heading level0 row1\" >1</th>\n",
       "      <td id=\"T_fef84_row1_col0\" class=\"data row1 col0\" >INLAND</td>\n",
       "      <td id=\"T_fef84_row1_col1\" class=\"data row1 col1\" >-194823</td>\n",
       "    </tr>\n",
       "    <tr>\n",
       "      <th id=\"T_fef84_level0_row2\" class=\"row_heading level0 row2\" >2</th>\n",
       "      <td id=\"T_fef84_row2_col0\" class=\"data row2 col0\" >NEAR OCEAN</td>\n",
       "      <td id=\"T_fef84_row2_col1\" class=\"data row2 col1\" >-151279</td>\n",
       "    </tr>\n",
       "    <tr>\n",
       "      <th id=\"T_fef84_level0_row3\" class=\"row_heading level0 row3\" >3</th>\n",
       "      <td id=\"T_fef84_row3_col0\" class=\"data row3 col0\" >NEAR BAY</td>\n",
       "      <td id=\"T_fef84_row3_col1\" class=\"data row3 col1\" >-159976</td>\n",
       "    </tr>\n",
       "    <tr>\n",
       "      <th id=\"T_fef84_level0_row4\" class=\"row_heading level0 row4\" >4</th>\n",
       "      <td id=\"T_fef84_row4_col0\" class=\"data row4 col0\" >longitude</td>\n",
       "      <td id=\"T_fef84_row4_col1\" class=\"data row4 col1\" >-51875</td>\n",
       "    </tr>\n",
       "    <tr>\n",
       "      <th id=\"T_fef84_level0_row5\" class=\"row_heading level0 row5\" >5</th>\n",
       "      <td id=\"T_fef84_row5_col0\" class=\"data row5 col0\" >latitude</td>\n",
       "      <td id=\"T_fef84_row5_col1\" class=\"data row5 col1\" >-52818</td>\n",
       "    </tr>\n",
       "    <tr>\n",
       "      <th id=\"T_fef84_level0_row6\" class=\"row_heading level0 row6\" >6</th>\n",
       "      <td id=\"T_fef84_row6_col0\" class=\"data row6 col0\" >housing_median_age</td>\n",
       "      <td id=\"T_fef84_row6_col1\" class=\"data row6 col1\" >13632</td>\n",
       "    </tr>\n",
       "    <tr>\n",
       "      <th id=\"T_fef84_level0_row7\" class=\"row_heading level0 row7\" >7</th>\n",
       "      <td id=\"T_fef84_row7_col0\" class=\"data row7 col0\" >total_rooms</td>\n",
       "      <td id=\"T_fef84_row7_col1\" class=\"data row7 col1\" >-10429</td>\n",
       "    </tr>\n",
       "    <tr>\n",
       "      <th id=\"T_fef84_level0_row8\" class=\"row_heading level0 row8\" >8</th>\n",
       "      <td id=\"T_fef84_row8_col0\" class=\"data row8 col0\" >total_bedrooms</td>\n",
       "      <td id=\"T_fef84_row8_col1\" class=\"data row8 col1\" >28865</td>\n",
       "    </tr>\n",
       "    <tr>\n",
       "      <th id=\"T_fef84_level0_row9\" class=\"row_heading level0 row9\" >9</th>\n",
       "      <td id=\"T_fef84_row9_col0\" class=\"data row9 col0\" >population</td>\n",
       "      <td id=\"T_fef84_row9_col1\" class=\"data row9 col1\" >-47462</td>\n",
       "    </tr>\n",
       "    <tr>\n",
       "      <th id=\"T_fef84_level0_row10\" class=\"row_heading level0 row10\" >10</th>\n",
       "      <td id=\"T_fef84_row10_col0\" class=\"data row10 col0\" >households</td>\n",
       "      <td id=\"T_fef84_row10_col1\" class=\"data row10 col1\" >32940</td>\n",
       "    </tr>\n",
       "    <tr>\n",
       "      <th id=\"T_fef84_level0_row11\" class=\"row_heading level0 row11\" >11</th>\n",
       "      <td id=\"T_fef84_row11_col0\" class=\"data row11 col0\" >median_income</td>\n",
       "      <td id=\"T_fef84_row11_col1\" class=\"data row11 col1\" >74375</td>\n",
       "    </tr>\n",
       "  </tbody>\n",
       "</table>\n"
      ],
      "text/plain": [
       "<pandas.io.formats.style.Styler at 0x114aff5b0>"
      ]
     },
     "metadata": {},
     "output_type": "display_data"
    }
   ],
   "source": [
    "explain_model(all_features_names, model_all)"
   ]
  },
  {
   "cell_type": "markdown",
   "id": "72f52ee8",
   "metadata": {},
   "source": [
    "Мы видим, что наибольшие абослютные значения у категориального признака; возраст дома, количество спален, количестов домохозяйств и средний доход увеличивают стоимость, а остальные признаки уменьшают. "
   ]
  },
  {
   "cell_type": "markdown",
   "id": "25a65f41",
   "metadata": {},
   "source": [
    "### Только числовые признаки"
   ]
  },
  {
   "cell_type": "markdown",
   "id": "d20943c4",
   "metadata": {},
   "source": [
    "Выполним аналогичные действия для числовых признаков."
   ]
  },
  {
   "cell_type": "code",
   "execution_count": 47,
   "id": "0a78e227",
   "metadata": {
    "scrolled": true
   },
   "outputs": [
    {
     "name": "stderr",
     "output_type": "stream",
     "text": [
      "\r",
      "[Stage 89:======================================================(200 + 0) / 200]\r",
      "\r",
      "                                                                                \r"
     ]
    }
   ],
   "source": [
    "lr_num = LinearRegression(labelCol=target, \n",
    "                          featuresCol='numerical_features_scaled', \n",
    "                          maxIter=10,                           \n",
    "                          regParam=0.3)\n",
    "model_num = lr_num.fit(train_data)"
   ]
  },
  {
   "cell_type": "code",
   "execution_count": 48,
   "id": "38aab829",
   "metadata": {},
   "outputs": [],
   "source": [
    "evaluation_num = model_num.evaluate(test_data)"
   ]
  },
  {
   "cell_type": "code",
   "execution_count": 49,
   "id": "ca496492",
   "metadata": {},
   "outputs": [
    {
     "name": "stdout",
     "output_type": "stream",
     "text": [
      "+-------------------------+------------------+------------------+\n",
      "|numerical_features_scaled|median_house_value|        prediction|\n",
      "+-------------------------+------------------+------------------+\n",
      "|     [-61.960586170793...|           92500.0|140238.96991453366|\n",
      "|     [-61.940621425772...|           55000.0|192271.63086276362|\n",
      "|     [-61.940621425772...|           72300.0|128978.84227293357|\n",
      "|     [-61.940621425772...|           57500.0|131736.41400379408|\n",
      "|     [-61.900691935732...|          119900.0| 177120.9397273166|\n",
      "+-------------------------+------------------+------------------+\n",
      "only showing top 5 rows\n",
      "\n"
     ]
    }
   ],
   "source": [
    "predictions_num = model_num.transform(test_data)\n",
    "\n",
    "predictedLabes_num = predictions_num.select('numerical_features_scaled', target, 'prediction')\n",
    "predictedLabes_num.show(5) "
   ]
  },
  {
   "cell_type": "markdown",
   "id": "63713817",
   "metadata": {},
   "source": [
    "И посмотрим на коэффициенты получившейся регрессии."
   ]
  },
  {
   "cell_type": "code",
   "execution_count": 50,
   "id": "1743aa9b",
   "metadata": {},
   "outputs": [
    {
     "name": "stdout",
     "output_type": "stream",
     "text": [
      "Свободный член: -3496029\n"
     ]
    },
    {
     "data": {
      "text/html": [
       "<style type=\"text/css\">\n",
       "</style>\n",
       "<table id=\"T_65101\">\n",
       "  <thead>\n",
       "    <tr>\n",
       "      <th class=\"blank level0\" >&nbsp;</th>\n",
       "      <th id=\"T_65101_level0_col0\" class=\"col_heading level0 col0\" >feature</th>\n",
       "      <th id=\"T_65101_level0_col1\" class=\"col_heading level0 col1\" >coefficient</th>\n",
       "    </tr>\n",
       "  </thead>\n",
       "  <tbody>\n",
       "    <tr>\n",
       "      <th id=\"T_65101_level0_row0\" class=\"row_heading level0 row0\" >0</th>\n",
       "      <td id=\"T_65101_row0_col0\" class=\"data row0 col0\" >longitude</td>\n",
       "      <td id=\"T_65101_row0_col1\" class=\"data row0 col1\" >-83668</td>\n",
       "    </tr>\n",
       "    <tr>\n",
       "      <th id=\"T_65101_level0_row1\" class=\"row_heading level0 row1\" >1</th>\n",
       "      <td id=\"T_65101_row1_col0\" class=\"data row1 col0\" >latitude</td>\n",
       "      <td id=\"T_65101_row1_col1\" class=\"data row1 col1\" >-89155</td>\n",
       "    </tr>\n",
       "    <tr>\n",
       "      <th id=\"T_65101_level0_row2\" class=\"row_heading level0 row2\" >2</th>\n",
       "      <td id=\"T_65101_row2_col0\" class=\"data row2 col0\" >housing_median_age</td>\n",
       "      <td id=\"T_65101_row2_col1\" class=\"data row2 col1\" >14625</td>\n",
       "    </tr>\n",
       "    <tr>\n",
       "      <th id=\"T_65101_level0_row3\" class=\"row_heading level0 row3\" >3</th>\n",
       "      <td id=\"T_65101_row3_col0\" class=\"data row3 col0\" >total_rooms</td>\n",
       "      <td id=\"T_65101_row3_col1\" class=\"data row3 col1\" >-14655</td>\n",
       "    </tr>\n",
       "    <tr>\n",
       "      <th id=\"T_65101_level0_row4\" class=\"row_heading level0 row4\" >4</th>\n",
       "      <td id=\"T_65101_row4_col0\" class=\"data row4 col0\" >total_bedrooms</td>\n",
       "      <td id=\"T_65101_row4_col1\" class=\"data row4 col1\" >33065</td>\n",
       "    </tr>\n",
       "    <tr>\n",
       "      <th id=\"T_65101_level0_row5\" class=\"row_heading level0 row5\" >5</th>\n",
       "      <td id=\"T_65101_row5_col0\" class=\"data row5 col0\" >population</td>\n",
       "      <td id=\"T_65101_row5_col1\" class=\"data row5 col1\" >-48095</td>\n",
       "    </tr>\n",
       "    <tr>\n",
       "      <th id=\"T_65101_level0_row6\" class=\"row_heading level0 row6\" >6</th>\n",
       "      <td id=\"T_65101_row6_col0\" class=\"data row6 col0\" >households</td>\n",
       "      <td id=\"T_65101_row6_col1\" class=\"data row6 col1\" >33389</td>\n",
       "    </tr>\n",
       "    <tr>\n",
       "      <th id=\"T_65101_level0_row7\" class=\"row_heading level0 row7\" >7</th>\n",
       "      <td id=\"T_65101_row7_col0\" class=\"data row7 col0\" >median_income</td>\n",
       "      <td id=\"T_65101_row7_col1\" class=\"data row7 col1\" >76281</td>\n",
       "    </tr>\n",
       "  </tbody>\n",
       "</table>\n"
      ],
      "text/plain": [
       "<pandas.io.formats.style.Styler at 0x114c0a910>"
      ]
     },
     "metadata": {},
     "output_type": "display_data"
    }
   ],
   "source": [
    "explain_model(numerical_columns, model_num)"
   ]
  },
  {
   "cell_type": "markdown",
   "id": "2d5f546d",
   "metadata": {},
   "source": [
    "Мы видим, что характер коэффициентов не изменился: возраст дома, количество спален, количестов домохозяйств и средний доход увеличивают стоимость, а остальные признаки уменьшают. И, поскольку мы убрали категориальный признак удаленности от океана, выросло значение признаков `longitude` и `latitude`."
   ]
  },
  {
   "cell_type": "markdown",
   "id": "1f716ab7",
   "metadata": {},
   "source": [
    "## Анализ результатов"
   ]
  },
  {
   "cell_type": "markdown",
   "id": "3360199a",
   "metadata": {},
   "source": [
    "Для анализа результатов рассчитаем требуемые условиями задачи метрики для обучающей выборки (трансформеры model_all и model_num) и тестовой выборки (predictions_all, predictions_num).\n",
    "\n",
    "Чтобы оценить смещение модели, построим графики отклонений для независимой переменной `median_income` как одной из наиболее значимых в обоих моделях регрессии."
   ]
  },
  {
   "cell_type": "markdown",
   "id": "937813ec",
   "metadata": {},
   "source": [
    "### Расчет метрик"
   ]
  },
  {
   "cell_type": "markdown",
   "id": "67c1f321",
   "metadata": {},
   "source": [
    "Сравним результаты работы двух моделей на тестовой выборке по метрикам MAE, RMSE и R2. "
   ]
  },
  {
   "cell_type": "code",
   "execution_count": 51,
   "id": "191e3763",
   "metadata": {},
   "outputs": [],
   "source": [
    "result = None\n",
    "for summary, name in zip([model_all.summary, evaluation_all, model_num.summary, evaluation_num], \n",
    "                         ['все train', 'все test', 'колич train', 'колич test']):\n",
    "    column  = pd.Series([summary.meanAbsoluteError,\n",
    "                         summary.rootMeanSquaredError,\n",
    "                         summary.r2],\n",
    "                        name=name,\n",
    "                        index=['MAE', 'RMSE', 'R2'])\n",
    "    if result is not None:\n",
    "        result = pd.concat([result, column], axis=1)\n",
    "    else:\n",
    "        result = column"
   ]
  },
  {
   "cell_type": "code",
   "execution_count": 52,
   "id": "77a19ff5",
   "metadata": {},
   "outputs": [
    {
     "data": {
      "text/html": [
       "<style type=\"text/css\">\n",
       "</style>\n",
       "<table id=\"T_a74b8\">\n",
       "  <thead>\n",
       "    <tr>\n",
       "      <th class=\"blank level0\" >&nbsp;</th>\n",
       "      <th id=\"T_a74b8_level0_col0\" class=\"col_heading level0 col0\" >все train</th>\n",
       "      <th id=\"T_a74b8_level0_col1\" class=\"col_heading level0 col1\" >все test</th>\n",
       "      <th id=\"T_a74b8_level0_col2\" class=\"col_heading level0 col2\" >колич train</th>\n",
       "      <th id=\"T_a74b8_level0_col3\" class=\"col_heading level0 col3\" >колич test</th>\n",
       "    </tr>\n",
       "  </thead>\n",
       "  <tbody>\n",
       "    <tr>\n",
       "      <th id=\"T_a74b8_level0_row0\" class=\"row_heading level0 row0\" >MAE</th>\n",
       "      <td id=\"T_a74b8_row0_col0\" class=\"data row0 col0\" >49639.33</td>\n",
       "      <td id=\"T_a74b8_row0_col1\" class=\"data row0 col1\" >49987.68</td>\n",
       "      <td id=\"T_a74b8_row0_col2\" class=\"data row0 col2\" >50715.55</td>\n",
       "      <td id=\"T_a74b8_row0_col3\" class=\"data row0 col3\" >51017.21</td>\n",
       "    </tr>\n",
       "    <tr>\n",
       "      <th id=\"T_a74b8_level0_row1\" class=\"row_heading level0 row1\" >RMSE</th>\n",
       "      <td id=\"T_a74b8_row1_col0\" class=\"data row1 col0\" >68185.93</td>\n",
       "      <td id=\"T_a74b8_row1_col1\" class=\"data row1 col1\" >69990.34</td>\n",
       "      <td id=\"T_a74b8_row1_col2\" class=\"data row1 col2\" >69136.16</td>\n",
       "      <td id=\"T_a74b8_row1_col3\" class=\"data row1 col3\" >70929.75</td>\n",
       "    </tr>\n",
       "    <tr>\n",
       "      <th id=\"T_a74b8_level0_row2\" class=\"row_heading level0 row2\" >R2</th>\n",
       "      <td id=\"T_a74b8_row2_col0\" class=\"data row2 col0\" >0.65</td>\n",
       "      <td id=\"T_a74b8_row2_col1\" class=\"data row2 col1\" >0.63</td>\n",
       "      <td id=\"T_a74b8_row2_col2\" class=\"data row2 col2\" >0.64</td>\n",
       "      <td id=\"T_a74b8_row2_col3\" class=\"data row2 col3\" >0.62</td>\n",
       "    </tr>\n",
       "  </tbody>\n",
       "</table>\n"
      ],
      "text/plain": [
       "<pandas.io.formats.style.Styler at 0x114c0a7f0>"
      ]
     },
     "execution_count": 52,
     "metadata": {},
     "output_type": "execute_result"
    }
   ],
   "source": [
    "result.style.format(precision=2)"
   ]
  },
  {
   "cell_type": "markdown",
   "id": "637e277d",
   "metadata": {},
   "source": [
    "**ВЫВОД**\n",
    "\n",
    "Мы видим, что результаты двух моделей близки. Модель со всеми признаками работает немного лучше модели с только числовыми признаками. Результаты на тестовой выборке немного хуже результатов на обучающей. \n",
    "\n",
    "Наша модель со всем признаками объясняет 63% изменчивости, а модель только с числовыми признаками — 62% изменчивости зависимой величины. То есть модели обладают предсказательными способностями.\n",
    "\n",
    "Отметим, что значения RMSE выше MAE. \n",
    "\n",
    "RMSE чувствительная к изменению частоты ошибок. Если для каждого предсказания у нас была бы одинаковая ошибка, то MAE и RMSE были одинаковы. Но если для предсказаний ошибки разные, то MAE и RMSE будут отличаться, что мы и наблюдаем. При этом [MAE больше реагирует на изменение размера ошибки, а RMSE на частоту изменений размера ошибки](https://medium.com/human-in-a-machine-world/mae-and-rmse-which-metric-is-better-e60ac3bde13d).\n",
    "\n",
    "В нашем случае мы видим, что среди ошибок есть редкие выбросы. Такой результат может быть следствием пропущенного этапа анализа выбросов в данных и их чистки перед обучением. "
   ]
  },
  {
   "cell_type": "markdown",
   "id": "fbe2b43c",
   "metadata": {},
   "source": [
    "### Оценка состоятельности модели"
   ]
  },
  {
   "cell_type": "markdown",
   "id": "152b8c50",
   "metadata": {},
   "source": [
    "Для оценки состоятельности модели добавим к обучающей и тестовой выборке среднее значение стоимости жилья в обучающей выборке. Сравним качество полученных моделей с моделью, предсказывающей среднее значение."
   ]
  },
  {
   "cell_type": "code",
   "execution_count": 53,
   "id": "17134a34",
   "metadata": {
    "scrolled": true
   },
   "outputs": [
    {
     "name": "stdout",
     "output_type": "stream",
     "text": [
      "+------------------+------------------+\n",
      "|median_house_value|     average_price|\n",
      "+------------------+------------------+\n",
      "|           75100.0|206347.95983714028|\n",
      "|           94800.0|206347.95983714028|\n",
      "|           74100.0|206347.95983714028|\n",
      "|           70500.0|206347.95983714028|\n",
      "|           97300.0|206347.95983714028|\n",
      "+------------------+------------------+\n",
      "only showing top 5 rows\n",
      "\n"
     ]
    }
   ],
   "source": [
    "mean = train_data.groupBy().avg(target).take(1)[0][0]\n",
    "train_data = train_data.withColumn('average_price', F.lit(mean))\n",
    "test_data = test_data.withColumn('average_price', F.lit(mean))\n",
    "train_data.select(target, 'average_price').show(5)"
   ]
  },
  {
   "cell_type": "code",
   "execution_count": 54,
   "id": "100c0ced",
   "metadata": {},
   "outputs": [
    {
     "name": "stdout",
     "output_type": "stream",
     "text": [
      "+------------------+------------------+\n",
      "|median_house_value|     average_price|\n",
      "+------------------+------------------+\n",
      "|           92500.0|206347.95983714028|\n",
      "|           55000.0|206347.95983714028|\n",
      "|           72300.0|206347.95983714028|\n",
      "|           57500.0|206347.95983714028|\n",
      "|          119900.0|206347.95983714028|\n",
      "+------------------+------------------+\n",
      "only showing top 5 rows\n",
      "\n"
     ]
    }
   ],
   "source": [
    "test_data.select(target, 'average_price').show(5)"
   ]
  },
  {
   "cell_type": "code",
   "execution_count": 55,
   "id": "92d33169",
   "metadata": {},
   "outputs": [],
   "source": [
    "dummy_train_mae = RegressionEvaluator(labelCol=target, \n",
    "                                      predictionCol='average_price', \n",
    "                                      metricName='mae') \\\n",
    "                  .evaluate(train_data)"
   ]
  },
  {
   "cell_type": "code",
   "execution_count": 56,
   "id": "82301bcb",
   "metadata": {},
   "outputs": [],
   "source": [
    "dummy_test_mae = RegressionEvaluator(labelCol=target, \n",
    "                                     predictionCol='average_price', \n",
    "                                     metricName='mae') \\\n",
    "                 .evaluate(test_data)"
   ]
  },
  {
   "cell_type": "code",
   "execution_count": 57,
   "id": "be072305",
   "metadata": {},
   "outputs": [
    {
     "name": "stdout",
     "output_type": "stream",
     "text": [
      "Dummy MAE on train:\t90933\n",
      "Dummy MAE on test:\t91412\n"
     ]
    }
   ],
   "source": [
    "print(f'Dummy MAE on train:\\t{dummy_train_mae:.0f}')\n",
    "print(f'Dummy MAE on test:\\t{dummy_test_mae:.0f}')"
   ]
  },
  {
   "cell_type": "markdown",
   "id": "801dcf60",
   "metadata": {},
   "source": [
    "Мы видим, что MAE наших моделей в два раза меньше модели, предсказывающей среднее значение. Это позовляет утверждать, что модель полезна и может применяться для прогнозирования стоимости. \n",
    "\n",
    "Учитывая, что  MAE модели 50 тыс, а значения стоимости лежат в диапазоне 15-500 тыс, мы рекомендуем округлять предсказания до 50 тыс. "
   ]
  },
  {
   "cell_type": "markdown",
   "id": "88ef3327",
   "metadata": {},
   "source": [
    "### Оценка смещения"
   ]
  },
  {
   "cell_type": "markdown",
   "id": "7869c6bd",
   "metadata": {},
   "source": [
    "Оценим визуально смещение в предсказаниях модели. Построим график остатков для значений независмой переменной `median_income` для сэмплов из 1000 значений.\n",
    "\n",
    "Для этого объединим значения остатков со значениями независимой переменной по порядку и возьмем сэмпл требуемой величины. Выполним эту операцию для результатов обучения и тестирования каждой модели."
   ]
  },
  {
   "cell_type": "code",
   "execution_count": 58,
   "id": "6b0a2537",
   "metadata": {
    "scrolled": true
   },
   "outputs": [
    {
     "name": "stderr",
     "output_type": "stream",
     "text": [
      "                                                                                \r"
     ]
    }
   ],
   "source": [
    "train_all = pack_sample_residuals(model_all.summary, \n",
    "                                  train_data, 'median_income', \n",
    "                                  1000/train_count).toPandas()"
   ]
  },
  {
   "cell_type": "code",
   "execution_count": 59,
   "id": "890789df",
   "metadata": {
    "scrolled": true
   },
   "outputs": [
    {
     "name": "stderr",
     "output_type": "stream",
     "text": [
      "                                                                                \r"
     ]
    }
   ],
   "source": [
    "test_all = pack_sample_residuals(model_all.summary, \n",
    "                                 test_data, 'median_income', \n",
    "                                 1000/test_count).toPandas()"
   ]
  },
  {
   "cell_type": "code",
   "execution_count": 60,
   "id": "8605095a",
   "metadata": {
    "scrolled": true
   },
   "outputs": [
    {
     "name": "stderr",
     "output_type": "stream",
     "text": [
      "                                                                                \r"
     ]
    }
   ],
   "source": [
    "train_num = pack_sample_residuals(model_num.summary, \n",
    "                                  train_data, 'median_income', \n",
    "                                  1000/train_count).toPandas()"
   ]
  },
  {
   "cell_type": "code",
   "execution_count": 61,
   "id": "2adea9f2",
   "metadata": {
    "scrolled": true
   },
   "outputs": [
    {
     "name": "stderr",
     "output_type": "stream",
     "text": [
      "                                                                                \r"
     ]
    }
   ],
   "source": [
    "test_num = pack_sample_residuals(model_num.summary, \n",
    "                                  test_data, 'median_income', \n",
    "                                  1000/test_count).toPandas()"
   ]
  },
  {
   "cell_type": "markdown",
   "id": "c8f3451a",
   "metadata": {},
   "source": [
    "Теперь построим графики."
   ]
  },
  {
   "cell_type": "code",
   "execution_count": 62,
   "id": "11f118c8",
   "metadata": {},
   "outputs": [
    {
     "data": {
      "image/png": "[encoded data removed]",
      "text/plain": [
       "<Figure size 1008x432 with 2 Axes>"
      ]
     },
     "metadata": {
      "image/png": {
       "height": 386,
       "width": 863
      },
      "needs_background": "light"
     },
     "output_type": "display_data"
    }
   ],
   "source": [
    "fig, axes = plt.subplots(1, 2, figsize=(14, 6))\n",
    "\n",
    "plot_residuals(train_all, test_all, axes[0], 'Все признаки', 'median_income')\n",
    "plot_residuals(train_num, test_num, axes[1], 'Числовые признаки', 'median_income')\n",
    "plt.show()"
   ]
  },
  {
   "cell_type": "markdown",
   "id": "8bc1ca8f",
   "metadata": {},
   "source": [
    "Графики подтверждают вывод о наличии редких выбросов в остатках, сделанный на основании того, что RMSE больше MAE.\n",
    "\n",
    "В дипазоне значений median_income от 6 и выше мы наблюдаем паттерн в остатках — убывающая прямая от 200 до -200 тыс. Это говорит о том, что у модели есть смещение в этом диапазоне значений независимой переменной. \n",
    "\n",
    "При этом большинство точек находится в диапазоне median_income от 1 до 6, где паттерна в распределении остатков мы не наблюдаем.\n"
   ]
  },
  {
   "cell_type": "markdown",
   "id": "f29fde4b",
   "metadata": {},
   "source": [
    "## Выводы"
   ]
  },
  {
   "cell_type": "markdown",
   "id": "e06846c0",
   "metadata": {},
   "source": [
    "В настоящем проекты мы применили распределенные вычисления для анализа, предобработки данных и построения модели линейной регрессии для предсказания стоимости жилья.\n",
    "\n",
    "На этапе предобработки данных мы обнаружили пропуски в признаке `total_bedrooms` и заполнили пропуски средними значениями, рассчитанными для каждого из значений категориального признака `ocean_proximity`.\n",
    "\n",
    "Мы применили кодирование методом ohe-hot encoding для категориального признака и масштабирование для числовых признаков. \n",
    "\n",
    "Далее мы обучили и протестировали две модели: первая на всех признаках и вторая только на числовых.\n",
    "\n",
    "Полученные модели объясняют 62-63% изменчивости целевого признака (стоимости жилья), то есть обладают предсказательной способностью. \n",
    "\n",
    "Модель, построенная на всех признаках показывает результаты чуть лучшие, чем модель только с чиловыми признаками.\n",
    "\n",
    "В границы настоящего проекта не входил анализ данных на выбросы и их чистка, что сказалось на результатах обучения модели: в предсказаниях мы видим редкие большие ошибки, дающие RMSE 70 тыс.\n",
    "\n",
    "Средняя абсолютная ошибка модели составила 50 тыс, исходя из чего мы рекомендуем округлять предсказания модели до 50 тыс.\n",
    "\n",
    "Для редких значений мы наблюдаем в распределении остатков паттерны, что говорит о смещении модели в диапазоне редких значений. Для улучшения модели мы рекомендуем выполнить анализ выбросов и провести чистку данных."
   ]
  }
 ],
 "metadata": {
  "kernelspec": {
   "display_name": "Python 3 (ipykernel)",
   "language": "python",
   "name": "python3"
  },
  "language_info": {
   "codemirror_mode": {
    "name": "ipython",
    "version": 3
   },
   "file_extension": ".py",
   "mimetype": "text/x-python",
   "name": "python",
   "nbconvert_exporter": "python",
   "pygments_lexer": "ipython3",
   "version": "3.9.12"
  },
  "toc": {
   "base_numbering": 1,
   "nav_menu": {},
   "number_sections": true,
   "sideBar": true,
   "skip_h1_title": true,
   "title_cell": "Table of Contents",
   "title_sidebar": "Contents",
   "toc_cell": false,
   "toc_position": {
    "height": "calc(100% - 180px)",
    "left": "10px",
    "top": "150px",
    "width": "274.59375px"
   },
   "toc_section_display": true,
   "toc_window_display": true
  }
 },
 "nbformat": 4,
 "nbformat_minor": 5
}
