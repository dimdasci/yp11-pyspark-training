{
 "cells": [
  {
   "cell_type": "markdown",
   "id": "c531a5f4",
   "metadata": {},
   "source": [
    "#  Предсказание стоимости дома"
   ]
  },
  {
   "cell_type": "markdown",
   "id": "71cc5677",
   "metadata": {},
   "source": [
    "В проекте нам нужно обучить модель линейной регрессии на данных о [жилье в Калифорнии в 1990 году](https://www.kaggle.com/datasets/camnugent/california-housing-prices) (CC0: Public Domain). \n",
    "\n",
    "В колонках датасета содержатся следующие данные:\n",
    "- `longitude` — широта;\n",
    "- `latitude` — долгота;\n",
    "- `housing_median_age` — медианный возраст жителей жилого массива;\n",
    "- `total_rooms` — общее количество комнат в домах жилого массива;\n",
    "- `total_bedrooms` — общее количество спален в домах жилого массива;\n",
    "- `population` — количество человек, которые проживают в жилом массиве;\n",
    "- `households` — количество домовладений в жилом массиве;\n",
    "- `median_income` — медианный доход жителей жилого массива;\n",
    "- `median_house_value` — медианная стоимость дома в жилом массиве;\n",
    "- `ocean_proximity` — близость к океану.\n",
    "\n",
    "На основе данных нужно предсказать медианную стоимость дома в жилом массиве — `median_house_value`. \n",
    "\n",
    "Для оценки качества модели используйте метрики RMSE, MAE и R2."
   ]
  },
  {
   "cell_type": "markdown",
   "id": "d04a1741",
   "metadata": {},
   "source": [
    "## Цель исследования"
   ]
  },
  {
   "cell_type": "markdown",
   "id": "ced28cf5",
   "metadata": {},
   "source": [
    "Целью исследования являетя разработка модели прогнозирования стоимости жилья с применением распределенных вычислений. "
   ]
  },
  {
   "cell_type": "markdown",
   "id": "efed42e3",
   "metadata": {},
   "source": [
    "### Постановка задачи"
   ]
  },
  {
   "cell_type": "markdown",
   "id": "3ce42747",
   "metadata": {},
   "source": [
    "В данной работе нам надо, используя распределенные вычисления:\n",
    "- провести анализ данных;\n",
    "- построить две модели линейной регрессии, предсказывающие стоимость жилья: одну на полном наборе признаков, другую только на числовых признаках;\n",
    "- сравнить результаты работы по метрикам RMSE, MAE и R2."
   ]
  },
  {
   "cell_type": "markdown",
   "id": "7e102f54",
   "metadata": {},
   "source": [
    "### Основные этапы"
   ]
  },
  {
   "cell_type": "markdown",
   "id": "1f6df55f",
   "metadata": {},
   "source": [
    "1. Инициализируем локальную Spark-сессию.\n",
    "2. Прочитаем содержимое файла `/datasets/housing.csv`.\n",
    "3. Выведем типы данных колонок датасета, применив методы pySpark.\n",
    "4. Выполним предобработку данных:\n",
    "    - Исследуем данные на наличие пропусков и заполним их.\n",
    "    - Преобразуем колонку с категориальными значениями техникой One hot encoding.\n",
    "5. Построим две модели линейной регрессии на разных наборах данных:\n",
    "    - используя все данные из файла;\n",
    "    - используя только числовые переменные, исключив категориальные.\n",
    "6. Для построения модели возьмем оценщик LinearRegression из библиотеки MLlib.\n",
    "7. Сравним результаты работы линейной регрессии на двух наборах данных по метрикам RMSE, MAE и R2. \n",
    "8. Сделаем выводы."
   ]
  },
  {
   "cell_type": "markdown",
   "id": "ff83add5",
   "metadata": {},
   "source": [
    "### Выводы"
   ]
  },
  {
   "cell_type": "markdown",
   "id": "8c6f7819",
   "metadata": {},
   "source": []
  },
  {
   "cell_type": "markdown",
   "id": "e2219681",
   "metadata": {},
   "source": [
    "## Загрузка библиотек"
   ]
  },
  {
   "cell_type": "code",
   "execution_count": 1,
   "id": "301e2b88",
   "metadata": {},
   "outputs": [],
   "source": [
    "from os.path import exists"
   ]
  },
  {
   "cell_type": "code",
   "execution_count": 2,
   "id": "b346262d",
   "metadata": {},
   "outputs": [],
   "source": [
    "import pandas as pd \n",
    "import numpy as np"
   ]
  },
  {
   "cell_type": "code",
   "execution_count": 3,
   "id": "fd9092f0",
   "metadata": {},
   "outputs": [],
   "source": [
    "from pyspark.sql import SparkSession\n",
    "from pyspark.sql.types import *\n",
    "import pyspark.sql.functions as F"
   ]
  },
  {
   "cell_type": "markdown",
   "id": "2ff7fc74",
   "metadata": {},
   "source": [
    "## Подготовка данных"
   ]
  },
  {
   "cell_type": "markdown",
   "id": "03c482c0",
   "metadata": {},
   "source": [
    "### Загрузка данных"
   ]
  },
  {
   "cell_type": "markdown",
   "id": "a4c162e5",
   "metadata": {},
   "source": [
    "Определим путь для загрузки данных: в текущей директории или корневой."
   ]
  },
  {
   "cell_type": "code",
   "execution_count": 4,
   "id": "8c3f29c9",
   "metadata": {},
   "outputs": [
    {
     "data": {
      "text/plain": [
       "'./datasets/housing.csv'"
      ]
     },
     "execution_count": 4,
     "metadata": {},
     "output_type": "execute_result"
    }
   ],
   "source": [
    "data_path = './datasets/housing.csv'\n",
    "if not exists(data_path):\n",
    "    data_path = data_path[1:]\n",
    "data_path"
   ]
  },
  {
   "cell_type": "markdown",
   "id": "7f8ba6dd",
   "metadata": {},
   "source": [
    "Инициализируем локальную Spark-сессию."
   ]
  },
  {
   "cell_type": "code",
   "execution_count": 5,
   "id": "fec25224",
   "metadata": {},
   "outputs": [
    {
     "name": "stderr",
     "output_type": "stream",
     "text": [
      "22/08/02 16:26:47 WARN NativeCodeLoader: Unable to load native-hadoop library for your platform... using builtin-java classes where applicable\n",
      "Using Spark's default log4j profile: org/apache/spark/log4j-defaults.properties\n",
      "Setting default log level to \"WARN\".\n",
      "To adjust logging level use sc.setLogLevel(newLevel). For SparkR, use setLogLevel(newLevel).\n"
     ]
    }
   ],
   "source": [
    "spark = SparkSession.builder \\\n",
    "                    .master(\"local\") \\\n",
    "                    .appName(\"California Housing median value prediction\") \\\n",
    "                    .getOrCreate()"
   ]
  },
  {
   "cell_type": "markdown",
   "id": "53900f36",
   "metadata": {},
   "source": [
    "Прочитаем содержимое файла данных."
   ]
  },
  {
   "cell_type": "code",
   "execution_count": 23,
   "id": "5333fac2",
   "metadata": {},
   "outputs": [
    {
     "data": {
      "text/plain": [
       "20640"
      ]
     },
     "execution_count": 23,
     "metadata": {},
     "output_type": "execute_result"
    }
   ],
   "source": [
    "df_housing = spark.read.load(data_path, \n",
    "                             format='csv',\n",
    "                             sep=',',\n",
    "                             inferSchema=True,\n",
    "                             header='true'\n",
    "                            )\n",
    "df_housing.count() "
   ]
  },
  {
   "cell_type": "markdown",
   "id": "fd0c07ae",
   "metadata": {},
   "source": [
    "Выведем типы данных колонок датасета."
   ]
  },
  {
   "cell_type": "code",
   "execution_count": 24,
   "id": "dc8baf74",
   "metadata": {},
   "outputs": [
    {
     "name": "stdout",
     "output_type": "stream",
     "text": [
      "root\n",
      " |-- longitude: double (nullable = true)\n",
      " |-- latitude: double (nullable = true)\n",
      " |-- housing_median_age: double (nullable = true)\n",
      " |-- total_rooms: double (nullable = true)\n",
      " |-- total_bedrooms: double (nullable = true)\n",
      " |-- population: double (nullable = true)\n",
      " |-- households: double (nullable = true)\n",
      " |-- median_income: double (nullable = true)\n",
      " |-- median_house_value: double (nullable = true)\n",
      " |-- ocean_proximity: string (nullable = true)\n",
      "\n"
     ]
    }
   ],
   "source": [
    "df_housing.printSchema()"
   ]
  },
  {
   "cell_type": "markdown",
   "id": "66fe1000",
   "metadata": {},
   "source": [
    "**ВЫВОД**\n",
    "\n",
    "Мы загрузили датасет в котором 20640 объектов и 10 признаков. \n",
    "\n",
    "9 признаков из 10 имеют тип double, один признак строковый. \n",
    "\n",
    "Все признаки могут содержать пустые значения."
   ]
  },
  {
   "cell_type": "markdown",
   "id": "9bc1bafc",
   "metadata": {},
   "source": [
    "### Предобработка данных"
   ]
  },
  {
   "cell_type": "markdown",
   "id": "71a5933e",
   "metadata": {},
   "source": [
    "Посмотрим на первые 10 строк данных. "
   ]
  },
  {
   "cell_type": "code",
   "execution_count": 53,
   "id": "3ca2ba21",
   "metadata": {},
   "outputs": [
    {
     "name": "stderr",
     "output_type": "stream",
     "text": [
      "\r",
      "[Stage 60:==================================>                   (129 + 1) / 200]\r",
      "\r",
      "                                                                                \r"
     ]
    },
    {
     "data": {
      "text/html": [
       "<div>\n",
       "<style scoped>\n",
       "    .dataframe tbody tr th:only-of-type {\n",
       "        vertical-align: middle;\n",
       "    }\n",
       "\n",
       "    .dataframe tbody tr th {\n",
       "        vertical-align: top;\n",
       "    }\n",
       "\n",
       "    .dataframe thead th {\n",
       "        text-align: right;\n",
       "    }\n",
       "</style>\n",
       "<table border=\"1\" class=\"dataframe\">\n",
       "  <thead>\n",
       "    <tr style=\"text-align: right;\">\n",
       "      <th></th>\n",
       "      <th>0</th>\n",
       "      <th>1</th>\n",
       "      <th>2</th>\n",
       "      <th>3</th>\n",
       "      <th>4</th>\n",
       "      <th>5</th>\n",
       "      <th>6</th>\n",
       "      <th>7</th>\n",
       "      <th>8</th>\n",
       "      <th>9</th>\n",
       "    </tr>\n",
       "  </thead>\n",
       "  <tbody>\n",
       "    <tr>\n",
       "      <th>ocean_proximity</th>\n",
       "      <td>NEAR BAY</td>\n",
       "      <td>NEAR BAY</td>\n",
       "      <td>NEAR BAY</td>\n",
       "      <td>NEAR BAY</td>\n",
       "      <td>NEAR BAY</td>\n",
       "      <td>NEAR BAY</td>\n",
       "      <td>NEAR BAY</td>\n",
       "      <td>NEAR BAY</td>\n",
       "      <td>NEAR BAY</td>\n",
       "      <td>NEAR BAY</td>\n",
       "    </tr>\n",
       "    <tr>\n",
       "      <th>longitude</th>\n",
       "      <td>-122.23</td>\n",
       "      <td>-122.22</td>\n",
       "      <td>-122.24</td>\n",
       "      <td>-122.25</td>\n",
       "      <td>-122.25</td>\n",
       "      <td>-122.25</td>\n",
       "      <td>-122.25</td>\n",
       "      <td>-122.25</td>\n",
       "      <td>-122.26</td>\n",
       "      <td>-122.25</td>\n",
       "    </tr>\n",
       "    <tr>\n",
       "      <th>latitude</th>\n",
       "      <td>37.88</td>\n",
       "      <td>37.86</td>\n",
       "      <td>37.85</td>\n",
       "      <td>37.85</td>\n",
       "      <td>37.85</td>\n",
       "      <td>37.85</td>\n",
       "      <td>37.84</td>\n",
       "      <td>37.84</td>\n",
       "      <td>37.84</td>\n",
       "      <td>37.84</td>\n",
       "    </tr>\n",
       "    <tr>\n",
       "      <th>housing_median_age</th>\n",
       "      <td>41.0</td>\n",
       "      <td>21.0</td>\n",
       "      <td>52.0</td>\n",
       "      <td>52.0</td>\n",
       "      <td>52.0</td>\n",
       "      <td>52.0</td>\n",
       "      <td>52.0</td>\n",
       "      <td>52.0</td>\n",
       "      <td>42.0</td>\n",
       "      <td>52.0</td>\n",
       "    </tr>\n",
       "    <tr>\n",
       "      <th>total_rooms</th>\n",
       "      <td>880.0</td>\n",
       "      <td>7099.0</td>\n",
       "      <td>1467.0</td>\n",
       "      <td>1274.0</td>\n",
       "      <td>1627.0</td>\n",
       "      <td>919.0</td>\n",
       "      <td>2535.0</td>\n",
       "      <td>3104.0</td>\n",
       "      <td>2555.0</td>\n",
       "      <td>3549.0</td>\n",
       "    </tr>\n",
       "    <tr>\n",
       "      <th>total_bedrooms</th>\n",
       "      <td>129.0</td>\n",
       "      <td>1106.0</td>\n",
       "      <td>190.0</td>\n",
       "      <td>235.0</td>\n",
       "      <td>280.0</td>\n",
       "      <td>213.0</td>\n",
       "      <td>489.0</td>\n",
       "      <td>687.0</td>\n",
       "      <td>665.0</td>\n",
       "      <td>707.0</td>\n",
       "    </tr>\n",
       "    <tr>\n",
       "      <th>population</th>\n",
       "      <td>322.0</td>\n",
       "      <td>2401.0</td>\n",
       "      <td>496.0</td>\n",
       "      <td>558.0</td>\n",
       "      <td>565.0</td>\n",
       "      <td>413.0</td>\n",
       "      <td>1094.0</td>\n",
       "      <td>1157.0</td>\n",
       "      <td>1206.0</td>\n",
       "      <td>1551.0</td>\n",
       "    </tr>\n",
       "    <tr>\n",
       "      <th>households</th>\n",
       "      <td>126.0</td>\n",
       "      <td>1138.0</td>\n",
       "      <td>177.0</td>\n",
       "      <td>219.0</td>\n",
       "      <td>259.0</td>\n",
       "      <td>193.0</td>\n",
       "      <td>514.0</td>\n",
       "      <td>647.0</td>\n",
       "      <td>595.0</td>\n",
       "      <td>714.0</td>\n",
       "    </tr>\n",
       "    <tr>\n",
       "      <th>median_income</th>\n",
       "      <td>8.3252</td>\n",
       "      <td>8.3014</td>\n",
       "      <td>7.2574</td>\n",
       "      <td>5.6431</td>\n",
       "      <td>3.8462</td>\n",
       "      <td>4.0368</td>\n",
       "      <td>3.6591</td>\n",
       "      <td>3.12</td>\n",
       "      <td>2.0804</td>\n",
       "      <td>3.6912</td>\n",
       "    </tr>\n",
       "    <tr>\n",
       "      <th>median_house_value</th>\n",
       "      <td>452600.0</td>\n",
       "      <td>358500.0</td>\n",
       "      <td>352100.0</td>\n",
       "      <td>341300.0</td>\n",
       "      <td>342200.0</td>\n",
       "      <td>269700.0</td>\n",
       "      <td>299200.0</td>\n",
       "      <td>241400.0</td>\n",
       "      <td>226700.0</td>\n",
       "      <td>261100.0</td>\n",
       "    </tr>\n",
       "  </tbody>\n",
       "</table>\n",
       "</div>"
      ],
      "text/plain": [
       "                           0         1         2         3         4  \\\n",
       "ocean_proximity     NEAR BAY  NEAR BAY  NEAR BAY  NEAR BAY  NEAR BAY   \n",
       "longitude            -122.23   -122.22   -122.24   -122.25   -122.25   \n",
       "latitude               37.88     37.86     37.85     37.85     37.85   \n",
       "housing_median_age      41.0      21.0      52.0      52.0      52.0   \n",
       "total_rooms            880.0    7099.0    1467.0    1274.0    1627.0   \n",
       "total_bedrooms         129.0    1106.0     190.0     235.0     280.0   \n",
       "population             322.0    2401.0     496.0     558.0     565.0   \n",
       "households             126.0    1138.0     177.0     219.0     259.0   \n",
       "median_income         8.3252    8.3014    7.2574    5.6431    3.8462   \n",
       "median_house_value  452600.0  358500.0  352100.0  341300.0  342200.0   \n",
       "\n",
       "                           5         6         7         8         9  \n",
       "ocean_proximity     NEAR BAY  NEAR BAY  NEAR BAY  NEAR BAY  NEAR BAY  \n",
       "longitude            -122.25   -122.25   -122.25   -122.26   -122.25  \n",
       "latitude               37.85     37.84     37.84     37.84     37.84  \n",
       "housing_median_age      52.0      52.0      52.0      42.0      52.0  \n",
       "total_rooms            919.0    2535.0    3104.0    2555.0    3549.0  \n",
       "total_bedrooms         213.0     489.0     687.0     665.0     707.0  \n",
       "population             413.0    1094.0    1157.0    1206.0    1551.0  \n",
       "households             193.0     514.0     647.0     595.0     714.0  \n",
       "median_income         4.0368    3.6591      3.12    2.0804    3.6912  \n",
       "median_house_value  269700.0  299200.0  241400.0  226700.0  261100.0  "
      ]
     },
     "execution_count": 53,
     "metadata": {},
     "output_type": "execute_result"
    }
   ],
   "source": [
    "df_housing.limit(10).toPandas().T"
   ]
  },
  {
   "cell_type": "code",
   "execution_count": 56,
   "id": "bd9238d1",
   "metadata": {},
   "outputs": [
    {
     "data": {
      "text/html": [
       "<div>\n",
       "<style scoped>\n",
       "    .dataframe tbody tr th:only-of-type {\n",
       "        vertical-align: middle;\n",
       "    }\n",
       "\n",
       "    .dataframe tbody tr th {\n",
       "        vertical-align: top;\n",
       "    }\n",
       "\n",
       "    .dataframe thead th {\n",
       "        text-align: right;\n",
       "    }\n",
       "</style>\n",
       "<table border=\"1\" class=\"dataframe\">\n",
       "  <thead>\n",
       "    <tr style=\"text-align: right;\">\n",
       "      <th>summary</th>\n",
       "      <th>count</th>\n",
       "      <th>mean</th>\n",
       "      <th>stddev</th>\n",
       "      <th>min</th>\n",
       "      <th>max</th>\n",
       "    </tr>\n",
       "  </thead>\n",
       "  <tbody>\n",
       "    <tr>\n",
       "      <th>ocean_proximity</th>\n",
       "      <td>20640</td>\n",
       "      <td>None</td>\n",
       "      <td>None</td>\n",
       "      <td>&lt;1H OCEAN</td>\n",
       "      <td>NEAR OCEAN</td>\n",
       "    </tr>\n",
       "    <tr>\n",
       "      <th>longitude</th>\n",
       "      <td>20640</td>\n",
       "      <td>-119.56970445736148</td>\n",
       "      <td>2.003531723502584</td>\n",
       "      <td>-124.35</td>\n",
       "      <td>-114.31</td>\n",
       "    </tr>\n",
       "    <tr>\n",
       "      <th>latitude</th>\n",
       "      <td>20640</td>\n",
       "      <td>35.6318614341087</td>\n",
       "      <td>2.135952397457101</td>\n",
       "      <td>32.54</td>\n",
       "      <td>41.95</td>\n",
       "    </tr>\n",
       "    <tr>\n",
       "      <th>housing_median_age</th>\n",
       "      <td>20640</td>\n",
       "      <td>28.639486434108527</td>\n",
       "      <td>12.58555761211163</td>\n",
       "      <td>1.0</td>\n",
       "      <td>52.0</td>\n",
       "    </tr>\n",
       "    <tr>\n",
       "      <th>total_rooms</th>\n",
       "      <td>20640</td>\n",
       "      <td>2635.7630813953488</td>\n",
       "      <td>2181.6152515827944</td>\n",
       "      <td>2.0</td>\n",
       "      <td>39320.0</td>\n",
       "    </tr>\n",
       "    <tr>\n",
       "      <th>total_bedrooms</th>\n",
       "      <td>20640</td>\n",
       "      <td>537.8808920871179</td>\n",
       "      <td>419.2677350499039</td>\n",
       "      <td>1.0</td>\n",
       "      <td>6445.0</td>\n",
       "    </tr>\n",
       "    <tr>\n",
       "      <th>population</th>\n",
       "      <td>20640</td>\n",
       "      <td>1425.4767441860465</td>\n",
       "      <td>1132.46212176534</td>\n",
       "      <td>3.0</td>\n",
       "      <td>35682.0</td>\n",
       "    </tr>\n",
       "    <tr>\n",
       "      <th>households</th>\n",
       "      <td>20640</td>\n",
       "      <td>499.5396802325581</td>\n",
       "      <td>382.3297528316098</td>\n",
       "      <td>1.0</td>\n",
       "      <td>6082.0</td>\n",
       "    </tr>\n",
       "    <tr>\n",
       "      <th>median_income</th>\n",
       "      <td>20640</td>\n",
       "      <td>3.8706710029070246</td>\n",
       "      <td>1.899821717945263</td>\n",
       "      <td>0.4999</td>\n",
       "      <td>15.0001</td>\n",
       "    </tr>\n",
       "    <tr>\n",
       "      <th>median_house_value</th>\n",
       "      <td>20640</td>\n",
       "      <td>206855.81690891474</td>\n",
       "      <td>115395.61587441359</td>\n",
       "      <td>14999.0</td>\n",
       "      <td>500001.0</td>\n",
       "    </tr>\n",
       "  </tbody>\n",
       "</table>\n",
       "</div>"
      ],
      "text/plain": [
       "summary             count                 mean              stddev        min  \\\n",
       "ocean_proximity     20640                 None                None  <1H OCEAN   \n",
       "longitude           20640  -119.56970445736148   2.003531723502584    -124.35   \n",
       "latitude            20640     35.6318614341087   2.135952397457101      32.54   \n",
       "housing_median_age  20640   28.639486434108527   12.58555761211163        1.0   \n",
       "total_rooms         20640   2635.7630813953488  2181.6152515827944        2.0   \n",
       "total_bedrooms      20640    537.8808920871179   419.2677350499039        1.0   \n",
       "population          20640   1425.4767441860465    1132.46212176534        3.0   \n",
       "households          20640    499.5396802325581   382.3297528316098        1.0   \n",
       "median_income       20640   3.8706710029070246   1.899821717945263     0.4999   \n",
       "median_house_value  20640   206855.81690891474  115395.61587441359    14999.0   \n",
       "\n",
       "summary                    max  \n",
       "ocean_proximity     NEAR OCEAN  \n",
       "longitude              -114.31  \n",
       "latitude                 41.95  \n",
       "housing_median_age        52.0  \n",
       "total_rooms            39320.0  \n",
       "total_bedrooms          6445.0  \n",
       "population             35682.0  \n",
       "households              6082.0  \n",
       "median_income          15.0001  \n",
       "median_house_value    500001.0  "
      ]
     },
     "execution_count": 56,
     "metadata": {},
     "output_type": "execute_result"
    }
   ],
   "source": [
    "df_housing.describe().toPandas().set_index('summary').T"
   ]
  },
  {
   "cell_type": "markdown",
   "id": "a88b8377",
   "metadata": {},
   "source": [
    "Мы видим, что признак `ocean_proximity` является категориальным. Признаки `longitude` и `longitude` являются географическими координатами и из соображений здарвого смысла должны быть связаны с признаком `ocean_proximity`, описывая географическое положение жилового массива.\n",
    "\n",
    "Остальные признаки являются количественными. Сохраним названия количественных и категориальных признаков."
   ]
  },
  {
   "cell_type": "code",
   "execution_count": 60,
   "id": "e2a5625b",
   "metadata": {},
   "outputs": [],
   "source": [
    "numerical_columns = df_housing.columns[1:]\n",
    "categorical_columns = df_housing.columns[:1]"
   ]
  },
  {
   "cell_type": "code",
   "execution_count": 61,
   "id": "0c130bbd",
   "metadata": {},
   "outputs": [
    {
     "data": {
      "text/plain": [
       "['longitude',\n",
       " 'latitude',\n",
       " 'housing_median_age',\n",
       " 'total_rooms',\n",
       " 'total_bedrooms',\n",
       " 'population',\n",
       " 'households',\n",
       " 'median_income',\n",
       " 'median_house_value']"
      ]
     },
     "execution_count": 61,
     "metadata": {},
     "output_type": "execute_result"
    }
   ],
   "source": [
    "numerical_columns"
   ]
  },
  {
   "cell_type": "code",
   "execution_count": 62,
   "id": "d0893c3c",
   "metadata": {},
   "outputs": [
    {
     "data": {
      "text/plain": [
       "['ocean_proximity']"
      ]
     },
     "execution_count": 62,
     "metadata": {},
     "output_type": "execute_result"
    }
   ],
   "source": [
    "categorical_columns"
   ]
  },
  {
   "cell_type": "markdown",
   "id": "5441f6be",
   "metadata": {},
   "source": [
    "#### Анализ пропусков"
   ]
  },
  {
   "cell_type": "markdown",
   "id": "427b38f5",
   "metadata": {},
   "source": [
    "Исследуем данные на наличие пропусков и заполним их."
   ]
  },
  {
   "cell_type": "code",
   "execution_count": 25,
   "id": "0feed81a",
   "metadata": {},
   "outputs": [
    {
     "data": {
      "text/html": [
       "<div>\n",
       "<style scoped>\n",
       "    .dataframe tbody tr th:only-of-type {\n",
       "        vertical-align: middle;\n",
       "    }\n",
       "\n",
       "    .dataframe tbody tr th {\n",
       "        vertical-align: top;\n",
       "    }\n",
       "\n",
       "    .dataframe thead th {\n",
       "        text-align: right;\n",
       "    }\n",
       "</style>\n",
       "<table border=\"1\" class=\"dataframe\">\n",
       "  <thead>\n",
       "    <tr style=\"text-align: right;\">\n",
       "      <th></th>\n",
       "      <th>0</th>\n",
       "    </tr>\n",
       "  </thead>\n",
       "  <tbody>\n",
       "    <tr>\n",
       "      <th>longitude</th>\n",
       "      <td>0</td>\n",
       "    </tr>\n",
       "    <tr>\n",
       "      <th>latitude</th>\n",
       "      <td>0</td>\n",
       "    </tr>\n",
       "    <tr>\n",
       "      <th>housing_median_age</th>\n",
       "      <td>0</td>\n",
       "    </tr>\n",
       "    <tr>\n",
       "      <th>total_rooms</th>\n",
       "      <td>0</td>\n",
       "    </tr>\n",
       "    <tr>\n",
       "      <th>total_bedrooms</th>\n",
       "      <td>207</td>\n",
       "    </tr>\n",
       "    <tr>\n",
       "      <th>population</th>\n",
       "      <td>0</td>\n",
       "    </tr>\n",
       "    <tr>\n",
       "      <th>households</th>\n",
       "      <td>0</td>\n",
       "    </tr>\n",
       "    <tr>\n",
       "      <th>median_income</th>\n",
       "      <td>0</td>\n",
       "    </tr>\n",
       "    <tr>\n",
       "      <th>median_house_value</th>\n",
       "      <td>0</td>\n",
       "    </tr>\n",
       "    <tr>\n",
       "      <th>ocean_proximity</th>\n",
       "      <td>0</td>\n",
       "    </tr>\n",
       "  </tbody>\n",
       "</table>\n",
       "</div>"
      ],
      "text/plain": [
       "                      0\n",
       "longitude             0\n",
       "latitude              0\n",
       "housing_median_age    0\n",
       "total_rooms           0\n",
       "total_bedrooms      207\n",
       "population            0\n",
       "households            0\n",
       "median_income         0\n",
       "median_house_value    0\n",
       "ocean_proximity       0"
      ]
     },
     "execution_count": 25,
     "metadata": {},
     "output_type": "execute_result"
    }
   ],
   "source": [
    "na_count = df_housing \\\n",
    "           .select([F.count(F.when(F.col(c).contains('None') | \\\n",
    "                                   F.col(c).contains('NULL') | \\\n",
    "                                   (F.col(c) == '' ) | \\\n",
    "                                   F.col(c).isNull() | \\\n",
    "                                   F.isnan(c), c \n",
    "                                  )).alias(c)\n",
    "                    for c in df_housing.columns])\n",
    "\n",
    "na_count.toPandas().T"
   ]
  },
  {
   "cell_type": "markdown",
   "id": "678e971c",
   "metadata": {},
   "source": [
    "Признак `total_bedrooms` содержит 207 пропусков. Посмотрим на примеры строк с пропусками."
   ]
  },
  {
   "cell_type": "code",
   "execution_count": 26,
   "id": "6e4bfc7b",
   "metadata": {},
   "outputs": [
    {
     "data": {
      "text/html": [
       "<div>\n",
       "<style scoped>\n",
       "    .dataframe tbody tr th:only-of-type {\n",
       "        vertical-align: middle;\n",
       "    }\n",
       "\n",
       "    .dataframe tbody tr th {\n",
       "        vertical-align: top;\n",
       "    }\n",
       "\n",
       "    .dataframe thead th {\n",
       "        text-align: right;\n",
       "    }\n",
       "</style>\n",
       "<table border=\"1\" class=\"dataframe\">\n",
       "  <thead>\n",
       "    <tr style=\"text-align: right;\">\n",
       "      <th></th>\n",
       "      <th>0</th>\n",
       "      <th>1</th>\n",
       "      <th>2</th>\n",
       "      <th>3</th>\n",
       "      <th>4</th>\n",
       "      <th>5</th>\n",
       "      <th>6</th>\n",
       "      <th>7</th>\n",
       "      <th>8</th>\n",
       "      <th>9</th>\n",
       "      <th>10</th>\n",
       "      <th>11</th>\n",
       "    </tr>\n",
       "  </thead>\n",
       "  <tbody>\n",
       "    <tr>\n",
       "      <th>longitude</th>\n",
       "      <td>-122.16</td>\n",
       "      <td>-122.17</td>\n",
       "      <td>-122.28</td>\n",
       "      <td>-122.24</td>\n",
       "      <td>-122.1</td>\n",
       "      <td>-122.14</td>\n",
       "      <td>-121.77</td>\n",
       "      <td>-121.95</td>\n",
       "      <td>-121.98</td>\n",
       "      <td>-122.01</td>\n",
       "      <td>-122.08</td>\n",
       "      <td>-119.75</td>\n",
       "    </tr>\n",
       "    <tr>\n",
       "      <th>latitude</th>\n",
       "      <td>37.77</td>\n",
       "      <td>37.75</td>\n",
       "      <td>37.78</td>\n",
       "      <td>37.75</td>\n",
       "      <td>37.69</td>\n",
       "      <td>37.67</td>\n",
       "      <td>39.66</td>\n",
       "      <td>38.03</td>\n",
       "      <td>37.96</td>\n",
       "      <td>37.94</td>\n",
       "      <td>37.88</td>\n",
       "      <td>36.71</td>\n",
       "    </tr>\n",
       "    <tr>\n",
       "      <th>housing_median_age</th>\n",
       "      <td>47.0</td>\n",
       "      <td>38.0</td>\n",
       "      <td>29.0</td>\n",
       "      <td>45.0</td>\n",
       "      <td>41.0</td>\n",
       "      <td>37.0</td>\n",
       "      <td>20.0</td>\n",
       "      <td>5.0</td>\n",
       "      <td>22.0</td>\n",
       "      <td>23.0</td>\n",
       "      <td>26.0</td>\n",
       "      <td>38.0</td>\n",
       "    </tr>\n",
       "    <tr>\n",
       "      <th>total_rooms</th>\n",
       "      <td>1256.0</td>\n",
       "      <td>992.0</td>\n",
       "      <td>5154.0</td>\n",
       "      <td>891.0</td>\n",
       "      <td>746.0</td>\n",
       "      <td>3342.0</td>\n",
       "      <td>3759.0</td>\n",
       "      <td>5526.0</td>\n",
       "      <td>2987.0</td>\n",
       "      <td>3741.0</td>\n",
       "      <td>2947.0</td>\n",
       "      <td>1481.0</td>\n",
       "    </tr>\n",
       "    <tr>\n",
       "      <th>total_bedrooms</th>\n",
       "      <td>NaN</td>\n",
       "      <td>NaN</td>\n",
       "      <td>NaN</td>\n",
       "      <td>NaN</td>\n",
       "      <td>NaN</td>\n",
       "      <td>NaN</td>\n",
       "      <td>NaN</td>\n",
       "      <td>NaN</td>\n",
       "      <td>NaN</td>\n",
       "      <td>NaN</td>\n",
       "      <td>NaN</td>\n",
       "      <td>NaN</td>\n",
       "    </tr>\n",
       "    <tr>\n",
       "      <th>population</th>\n",
       "      <td>570.0</td>\n",
       "      <td>732.0</td>\n",
       "      <td>3741.0</td>\n",
       "      <td>384.0</td>\n",
       "      <td>387.0</td>\n",
       "      <td>1635.0</td>\n",
       "      <td>1705.0</td>\n",
       "      <td>3207.0</td>\n",
       "      <td>1420.0</td>\n",
       "      <td>1339.0</td>\n",
       "      <td>825.0</td>\n",
       "      <td>1543.0</td>\n",
       "    </tr>\n",
       "    <tr>\n",
       "      <th>households</th>\n",
       "      <td>218.0</td>\n",
       "      <td>259.0</td>\n",
       "      <td>1273.0</td>\n",
       "      <td>146.0</td>\n",
       "      <td>161.0</td>\n",
       "      <td>557.0</td>\n",
       "      <td>600.0</td>\n",
       "      <td>1012.0</td>\n",
       "      <td>540.0</td>\n",
       "      <td>499.0</td>\n",
       "      <td>626.0</td>\n",
       "      <td>372.0</td>\n",
       "    </tr>\n",
       "    <tr>\n",
       "      <th>median_income</th>\n",
       "      <td>4.375</td>\n",
       "      <td>1.6196</td>\n",
       "      <td>2.5762</td>\n",
       "      <td>4.9489</td>\n",
       "      <td>3.9063</td>\n",
       "      <td>4.7933</td>\n",
       "      <td>4.712</td>\n",
       "      <td>4.0767</td>\n",
       "      <td>3.65</td>\n",
       "      <td>6.7061</td>\n",
       "      <td>2.933</td>\n",
       "      <td>1.4577</td>\n",
       "    </tr>\n",
       "    <tr>\n",
       "      <th>median_house_value</th>\n",
       "      <td>161900.0</td>\n",
       "      <td>85100.0</td>\n",
       "      <td>173400.0</td>\n",
       "      <td>247100.0</td>\n",
       "      <td>178400.0</td>\n",
       "      <td>186900.0</td>\n",
       "      <td>158600.0</td>\n",
       "      <td>143100.0</td>\n",
       "      <td>204100.0</td>\n",
       "      <td>322300.0</td>\n",
       "      <td>85000.0</td>\n",
       "      <td>49800.0</td>\n",
       "    </tr>\n",
       "    <tr>\n",
       "      <th>ocean_proximity</th>\n",
       "      <td>NEAR BAY</td>\n",
       "      <td>NEAR BAY</td>\n",
       "      <td>NEAR BAY</td>\n",
       "      <td>NEAR BAY</td>\n",
       "      <td>NEAR BAY</td>\n",
       "      <td>NEAR BAY</td>\n",
       "      <td>INLAND</td>\n",
       "      <td>INLAND</td>\n",
       "      <td>INLAND</td>\n",
       "      <td>NEAR BAY</td>\n",
       "      <td>NEAR BAY</td>\n",
       "      <td>INLAND</td>\n",
       "    </tr>\n",
       "  </tbody>\n",
       "</table>\n",
       "</div>"
      ],
      "text/plain": [
       "                          0         1         2         3         4   \\\n",
       "longitude            -122.16   -122.17   -122.28   -122.24    -122.1   \n",
       "latitude               37.77     37.75     37.78     37.75     37.69   \n",
       "housing_median_age      47.0      38.0      29.0      45.0      41.0   \n",
       "total_rooms           1256.0     992.0    5154.0     891.0     746.0   \n",
       "total_bedrooms           NaN       NaN       NaN       NaN       NaN   \n",
       "population             570.0     732.0    3741.0     384.0     387.0   \n",
       "households             218.0     259.0    1273.0     146.0     161.0   \n",
       "median_income          4.375    1.6196    2.5762    4.9489    3.9063   \n",
       "median_house_value  161900.0   85100.0  173400.0  247100.0  178400.0   \n",
       "ocean_proximity     NEAR BAY  NEAR BAY  NEAR BAY  NEAR BAY  NEAR BAY   \n",
       "\n",
       "                          5         6         7         8         9   \\\n",
       "longitude            -122.14   -121.77   -121.95   -121.98   -122.01   \n",
       "latitude               37.67     39.66     38.03     37.96     37.94   \n",
       "housing_median_age      37.0      20.0       5.0      22.0      23.0   \n",
       "total_rooms           3342.0    3759.0    5526.0    2987.0    3741.0   \n",
       "total_bedrooms           NaN       NaN       NaN       NaN       NaN   \n",
       "population            1635.0    1705.0    3207.0    1420.0    1339.0   \n",
       "households             557.0     600.0    1012.0     540.0     499.0   \n",
       "median_income         4.7933     4.712    4.0767      3.65    6.7061   \n",
       "median_house_value  186900.0  158600.0  143100.0  204100.0  322300.0   \n",
       "ocean_proximity     NEAR BAY    INLAND    INLAND    INLAND  NEAR BAY   \n",
       "\n",
       "                          10       11  \n",
       "longitude            -122.08  -119.75  \n",
       "latitude               37.88    36.71  \n",
       "housing_median_age      26.0     38.0  \n",
       "total_rooms           2947.0   1481.0  \n",
       "total_bedrooms           NaN      NaN  \n",
       "population             825.0   1543.0  \n",
       "households             626.0    372.0  \n",
       "median_income          2.933   1.4577  \n",
       "median_house_value   85000.0  49800.0  \n",
       "ocean_proximity     NEAR BAY   INLAND  "
      ]
     },
     "execution_count": 26,
     "metadata": {},
     "output_type": "execute_result"
    }
   ],
   "source": [
    "df_housing.filter(df_housing.total_bedrooms.isNull()).toPandas().head(12).T"
   ]
  },
  {
   "cell_type": "markdown",
   "id": "7fce02ab",
   "metadata": {},
   "source": [
    "Мы видим, что пропуски есть у объектах, имеющих разные значения удаленности от океана. Возможно типы строений для разной удаленности от океана отличаются. Тогда мы можем заполнить пропуски средними значениями для соответвующей категории дальности. \n",
    "\n",
    "Проверим эту гипотезу. Посчитаем среднее значение спален по значениям удаленности от океана."
   ]
  },
  {
   "cell_type": "code",
   "execution_count": 31,
   "id": "a46a6112",
   "metadata": {},
   "outputs": [
    {
     "name": "stderr",
     "output_type": "stream",
     "text": [
      "\r",
      "[Stage 29:=================================================>    (182 + 1) / 200]\r",
      "\r",
      "                                                                                \r"
     ]
    },
    {
     "data": {
      "text/plain": [
       "[{'ISLAND': 420.4},\n",
       " {'NEAR OCEAN': 538.6156773211568},\n",
       " {'NEAR BAY': 514.1828193832599},\n",
       " {'<1H OCEAN': 546.5391852999778},\n",
       " {'INLAND': 533.8816194581281}]"
      ]
     },
     "execution_count": 31,
     "metadata": {},
     "output_type": "execute_result"
    }
   ],
   "source": [
    "bedrooms_by_ocean_proximity = [{ r['ocean_proximity']: \n",
    "                                 r['avg_bedrroms'] }  \n",
    "                               for r in df_housing \\\n",
    "                                        .select('ocean_proximity', 'total_bedrooms') \\\n",
    "                                        .groupBy('ocean_proximity') \\\n",
    "                                        .avg('total_bedrooms') \\\n",
    "                                        .toDF('ocean_proximity', 'avg_bedrroms') \\\n",
    "                                        .collect() ]\n",
    "\n",
    "bedrooms_by_ocean_proximity"
   ]
  },
  {
   "cell_type": "markdown",
   "id": "ce01797f",
   "metadata": {},
   "source": [
    "Мы видим, что среднее значение количества спален зависит от дальности жилого массива от океана. Заполним пропуски средними значениями в зависимости от значения `ocean_proximity`.\n",
    "\n",
    "Сначала создадим DataFrame со средними значениями."
   ]
  },
  {
   "cell_type": "code",
   "execution_count": 43,
   "id": "927140e8",
   "metadata": {},
   "outputs": [],
   "source": [
    "bedrooms_avg = df_housing \\\n",
    "               .select('ocean_proximity', 'total_bedrooms') \\\n",
    "               .groupBy('ocean_proximity') \\\n",
    "               .agg(F.mean('total_bedrooms').alias('total_bedrooms_avg'))"
   ]
  },
  {
   "cell_type": "markdown",
   "id": "60ebefbe",
   "metadata": {},
   "source": [
    "Потом присоединим средние сзначения к основному датасету слева."
   ]
  },
  {
   "cell_type": "code",
   "execution_count": 44,
   "id": "21714dbc",
   "metadata": {},
   "outputs": [],
   "source": [
    "df_extended = df_housing.join(bedrooms_avg, ['ocean_proximity'], 'left')"
   ]
  },
  {
   "cell_type": "code",
   "execution_count": 46,
   "id": "7cba5239",
   "metadata": {},
   "outputs": [
    {
     "name": "stdout",
     "output_type": "stream",
     "text": [
      "+---------------+--------------+------------------+\n",
      "|ocean_proximity|total_bedrooms|total_bedrooms_avg|\n",
      "+---------------+--------------+------------------+\n",
      "|       NEAR BAY|         129.0| 514.1828193832599|\n",
      "|       NEAR BAY|        1106.0| 514.1828193832599|\n",
      "|       NEAR BAY|         190.0| 514.1828193832599|\n",
      "|       NEAR BAY|         235.0| 514.1828193832599|\n",
      "|       NEAR BAY|         280.0| 514.1828193832599|\n",
      "+---------------+--------------+------------------+\n",
      "only showing top 5 rows\n",
      "\n"
     ]
    }
   ],
   "source": [
    "df_extended.select('ocean_proximity', 'total_bedrooms', 'total_bedrooms_avg').show(5)"
   ]
  },
  {
   "cell_type": "markdown",
   "id": "1610dfb3",
   "metadata": {},
   "source": [
    "Теперь заменим пустые значения в столбце total_bedrooms на средние значения, применив трансформацию `coalesce`, которая сохранить непустое значение без изменений, а пустые заменит значениями из переданного столбца."
   ]
  },
  {
   "cell_type": "code",
   "execution_count": 48,
   "id": "72ae44a3",
   "metadata": {},
   "outputs": [],
   "source": [
    "df_housing = df_extended \\\n",
    "             .withColumn('total_bedrooms', F.coalesce('total_bedrooms', 'total_bedrooms_avg')) \\\n",
    "             .drop('total_bedrooms_avg')"
   ]
  },
  {
   "cell_type": "markdown",
   "id": "4ac8750c",
   "metadata": {},
   "source": [
    "Проверим, что непустые значения сохранились."
   ]
  },
  {
   "cell_type": "code",
   "execution_count": 50,
   "id": "daa9ffa4",
   "metadata": {},
   "outputs": [
    {
     "name": "stdout",
     "output_type": "stream",
     "text": [
      "+---------------+--------------+\n",
      "|ocean_proximity|total_bedrooms|\n",
      "+---------------+--------------+\n",
      "|       NEAR BAY|         129.0|\n",
      "|       NEAR BAY|        1106.0|\n",
      "|       NEAR BAY|         190.0|\n",
      "|       NEAR BAY|         235.0|\n",
      "|       NEAR BAY|         280.0|\n",
      "+---------------+--------------+\n",
      "only showing top 5 rows\n",
      "\n"
     ]
    }
   ],
   "source": [
    "df_housing.select('ocean_proximity', 'total_bedrooms').show(5)"
   ]
  },
  {
   "cell_type": "markdown",
   "id": "bcfed3a2",
   "metadata": {},
   "source": [
    "Все в порядке. Проверим, что пропуски заполнены."
   ]
  },
  {
   "cell_type": "code",
   "execution_count": 51,
   "id": "a7dca471",
   "metadata": {},
   "outputs": [
    {
     "data": {
      "text/html": [
       "<div>\n",
       "<style scoped>\n",
       "    .dataframe tbody tr th:only-of-type {\n",
       "        vertical-align: middle;\n",
       "    }\n",
       "\n",
       "    .dataframe tbody tr th {\n",
       "        vertical-align: top;\n",
       "    }\n",
       "\n",
       "    .dataframe thead th {\n",
       "        text-align: right;\n",
       "    }\n",
       "</style>\n",
       "<table border=\"1\" class=\"dataframe\">\n",
       "  <thead>\n",
       "    <tr style=\"text-align: right;\">\n",
       "      <th></th>\n",
       "      <th>0</th>\n",
       "    </tr>\n",
       "  </thead>\n",
       "  <tbody>\n",
       "    <tr>\n",
       "      <th>ocean_proximity</th>\n",
       "      <td>0</td>\n",
       "    </tr>\n",
       "    <tr>\n",
       "      <th>longitude</th>\n",
       "      <td>0</td>\n",
       "    </tr>\n",
       "    <tr>\n",
       "      <th>latitude</th>\n",
       "      <td>0</td>\n",
       "    </tr>\n",
       "    <tr>\n",
       "      <th>housing_median_age</th>\n",
       "      <td>0</td>\n",
       "    </tr>\n",
       "    <tr>\n",
       "      <th>total_rooms</th>\n",
       "      <td>0</td>\n",
       "    </tr>\n",
       "    <tr>\n",
       "      <th>total_bedrooms</th>\n",
       "      <td>0</td>\n",
       "    </tr>\n",
       "    <tr>\n",
       "      <th>population</th>\n",
       "      <td>0</td>\n",
       "    </tr>\n",
       "    <tr>\n",
       "      <th>households</th>\n",
       "      <td>0</td>\n",
       "    </tr>\n",
       "    <tr>\n",
       "      <th>median_income</th>\n",
       "      <td>0</td>\n",
       "    </tr>\n",
       "    <tr>\n",
       "      <th>median_house_value</th>\n",
       "      <td>0</td>\n",
       "    </tr>\n",
       "  </tbody>\n",
       "</table>\n",
       "</div>"
      ],
      "text/plain": [
       "                    0\n",
       "ocean_proximity     0\n",
       "longitude           0\n",
       "latitude            0\n",
       "housing_median_age  0\n",
       "total_rooms         0\n",
       "total_bedrooms      0\n",
       "population          0\n",
       "households          0\n",
       "median_income       0\n",
       "median_house_value  0"
      ]
     },
     "execution_count": 51,
     "metadata": {},
     "output_type": "execute_result"
    }
   ],
   "source": [
    "na_count = df_housing \\\n",
    "           .select([F.count(F.when(F.col(c).contains('None') | \\\n",
    "                                   F.col(c).contains('NULL') | \\\n",
    "                                   (F.col(c) == '' ) | \\\n",
    "                                   F.col(c).isNull() | \\\n",
    "                                   F.isnan(c), c \n",
    "                                  )).alias(c)\n",
    "                    for c in df_housing.columns])\n",
    "\n",
    "na_count.toPandas().T"
   ]
  },
  {
   "cell_type": "markdown",
   "id": "03bcb49d",
   "metadata": {},
   "source": [
    "Пропусков больше нет. И проверим, что средние значения по категориям дальности не изменились, поскольку мы заполнили пропуски средними же значениями."
   ]
  },
  {
   "cell_type": "code",
   "execution_count": 52,
   "id": "5b55511f",
   "metadata": {},
   "outputs": [
    {
     "data": {
      "text/plain": [
       "[{'ISLAND': 420.4},\n",
       " {'NEAR OCEAN': 538.6156773211568},\n",
       " {'NEAR BAY': 514.1828193832598},\n",
       " {'<1H OCEAN': 546.5391852999772},\n",
       " {'INLAND': 533.8816194581278}]"
      ]
     },
     "execution_count": 52,
     "metadata": {},
     "output_type": "execute_result"
    }
   ],
   "source": [
    "bedrooms_by_ocean_proximity = [{ r['ocean_proximity']: \n",
    "                                 r['avg_bedrroms'] }  \n",
    "                               for r in df_housing \\\n",
    "                                        .select('ocean_proximity', 'total_bedrooms') \\\n",
    "                                        .groupBy('ocean_proximity') \\\n",
    "                                        .avg('total_bedrooms') \\\n",
    "                                        .toDF('ocean_proximity', 'avg_bedrroms') \\\n",
    "                                        .collect() ]\n",
    "\n",
    "bedrooms_by_ocean_proximity"
   ]
  },
  {
   "cell_type": "markdown",
   "id": "a85f776e",
   "metadata": {},
   "source": [
    "Все в порядке. \n",
    "\n",
    "**ВЫВОД**\n",
    "\n",
    "Мы обнаружили 207 пропущенных значений признака `total_bedrooms` и заменили их средними значениями по категориям удаленности от океана."
   ]
  },
  {
   "cell_type": "markdown",
   "id": "486d2447",
   "metadata": {},
   "source": [
    "#### Кодирование категориальных признаков"
   ]
  },
  {
   "cell_type": "markdown",
   "id": "d3a3ac15",
   "metadata": {},
   "source": [
    "Преобразуем колонку с категориальными значениями техникой One hot encoding."
   ]
  },
  {
   "cell_type": "code",
   "execution_count": null,
   "id": "ce9c7178",
   "metadata": {},
   "outputs": [],
   "source": []
  },
  {
   "cell_type": "markdown",
   "id": "2a881684",
   "metadata": {},
   "source": [
    "### Разделение  на обучающую и тестовые выборки"
   ]
  },
  {
   "cell_type": "code",
   "execution_count": null,
   "id": "f333832d",
   "metadata": {},
   "outputs": [],
   "source": []
  },
  {
   "cell_type": "markdown",
   "id": "d0d373bf",
   "metadata": {},
   "source": [
    "## Обучение моделей"
   ]
  },
  {
   "cell_type": "markdown",
   "id": "903cdb18",
   "metadata": {},
   "source": [
    "Для построения модели возьмем оценщик LinearRegression из библиотеки MLlib. \n",
    "\n",
    "Построим две модели линейной регрессии на разных наборах данных: полном наборе и только на числовых признаках."
   ]
  },
  {
   "cell_type": "markdown",
   "id": "b8e8be9b",
   "metadata": {},
   "source": [
    "### Полный набор данных"
   ]
  },
  {
   "cell_type": "code",
   "execution_count": null,
   "id": "cca64936",
   "metadata": {},
   "outputs": [],
   "source": []
  },
  {
   "cell_type": "markdown",
   "id": "25a65f41",
   "metadata": {},
   "source": [
    "### Только числовые признаки"
   ]
  },
  {
   "cell_type": "code",
   "execution_count": null,
   "id": "0fa4df76",
   "metadata": {},
   "outputs": [],
   "source": []
  },
  {
   "cell_type": "markdown",
   "id": "1f716ab7",
   "metadata": {},
   "source": [
    "## Анализ результатов"
   ]
  },
  {
   "cell_type": "markdown",
   "id": "67c1f321",
   "metadata": {},
   "source": [
    "Сравним результаты работы двух моделей на тестовой выборке по метрикам RMSE, MAE и R2. "
   ]
  },
  {
   "cell_type": "code",
   "execution_count": null,
   "id": "01422342",
   "metadata": {},
   "outputs": [],
   "source": []
  },
  {
   "cell_type": "markdown",
   "id": "f29fde4b",
   "metadata": {},
   "source": [
    "## Выводы"
   ]
  },
  {
   "cell_type": "markdown",
   "id": "e06846c0",
   "metadata": {},
   "source": []
  }
 ],
 "metadata": {
  "kernelspec": {
   "display_name": "Python 3 (ipykernel)",
   "language": "python",
   "name": "python3"
  },
  "language_info": {
   "codemirror_mode": {
    "name": "ipython",
    "version": 3
   },
   "file_extension": ".py",
   "mimetype": "text/x-python",
   "name": "python",
   "nbconvert_exporter": "python",
   "pygments_lexer": "ipython3",
   "version": "3.9.12"
  },
  "toc": {
   "base_numbering": 1,
   "nav_menu": {},
   "number_sections": true,
   "sideBar": true,
   "skip_h1_title": true,
   "title_cell": "Table of Contents",
   "title_sidebar": "Contents",
   "toc_cell": false,
   "toc_position": {},
   "toc_section_display": true,
   "toc_window_display": true
  }
 },
 "nbformat": 4,
 "nbformat_minor": 5
}
